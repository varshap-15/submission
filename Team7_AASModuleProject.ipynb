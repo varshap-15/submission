{
  "nbformat": 4,
  "nbformat_minor": 0,
  "metadata": {
    "colab": {
      "provenance": []
    },
    "kernelspec": {
      "name": "python3",
      "display_name": "Python 3"
    },
    "language_info": {
      "name": "python"
    }
  },
  "cells": [
    {
      "cell_type": "markdown",
      "source": [
        "#**Case Study OF Banking and Finacial Services** : Team 7"
      ],
      "metadata": {
        "id": "soBFgBQa2CHu"
      }
    },
    {
      "cell_type": "code",
      "execution_count": null,
      "metadata": {
        "id": "WwQsi5nPkKfp"
      },
      "outputs": [],
      "source": [
        "import pandas as pd\n",
        "import numpy as np\n",
        "import seaborn as sns\n",
        "import matplotlib.pyplot as plt\n",
        "\n"
      ]
    },
    {
      "cell_type": "markdown",
      "source": [
        "## 1. Reading the dataset and understanding it"
      ],
      "metadata": {
        "id": "QeC0oKBI2QT6"
      }
    },
    {
      "cell_type": "code",
      "source": [
        "# Loading Dataset : application_data\n",
        "df_app=pd.read_csv('/content/drive/MyDrive/Exam docs/AAS_Project/Copy of application_data (1).csv')\n"
      ],
      "metadata": {
        "id": "FduJJQ7_m1gw"
      },
      "execution_count": null,
      "outputs": []
    },
    {
      "cell_type": "code",
      "source": [
        "# printing the first 5 records\n",
        "df_app.head()"
      ],
      "metadata": {
        "colab": {
          "base_uri": "https://localhost:8080/",
          "height": 299
        },
        "id": "iXBZVEDAnA1_",
        "outputId": "b407366b-9eb1-44d3-c89c-138d3483174e"
      },
      "execution_count": null,
      "outputs": [
        {
          "output_type": "execute_result",
          "data": {
            "text/plain": [
              "   SK_ID_CURR  TARGET NAME_CONTRACT_TYPE CODE_GENDER FLAG_OWN_CAR  \\\n",
              "0      100002       1         Cash loans           M            N   \n",
              "1      100003       0         Cash loans           F            N   \n",
              "2      100004       0    Revolving loans           M            Y   \n",
              "3      100006       0         Cash loans           F            N   \n",
              "4      100007       0         Cash loans           M            N   \n",
              "\n",
              "  FLAG_OWN_REALTY  CNT_CHILDREN  AMT_INCOME_TOTAL  AMT_CREDIT  AMT_ANNUITY  \\\n",
              "0               Y             0          202500.0    406597.5      24700.5   \n",
              "1               N             0          270000.0   1293502.5      35698.5   \n",
              "2               Y             0           67500.0    135000.0       6750.0   \n",
              "3               Y             0          135000.0    312682.5      29686.5   \n",
              "4               Y             0          121500.0    513000.0      21865.5   \n",
              "\n",
              "   ...  FLAG_DOCUMENT_18 FLAG_DOCUMENT_19 FLAG_DOCUMENT_20 FLAG_DOCUMENT_21  \\\n",
              "0  ...                 0                0                0                0   \n",
              "1  ...                 0                0                0                0   \n",
              "2  ...                 0                0                0                0   \n",
              "3  ...                 0                0                0                0   \n",
              "4  ...                 0                0                0                0   \n",
              "\n",
              "  AMT_REQ_CREDIT_BUREAU_HOUR AMT_REQ_CREDIT_BUREAU_DAY  \\\n",
              "0                        0.0                       0.0   \n",
              "1                        0.0                       0.0   \n",
              "2                        0.0                       0.0   \n",
              "3                        NaN                       NaN   \n",
              "4                        0.0                       0.0   \n",
              "\n",
              "   AMT_REQ_CREDIT_BUREAU_WEEK  AMT_REQ_CREDIT_BUREAU_MON  \\\n",
              "0                         0.0                        0.0   \n",
              "1                         0.0                        0.0   \n",
              "2                         0.0                        0.0   \n",
              "3                         NaN                        NaN   \n",
              "4                         0.0                        0.0   \n",
              "\n",
              "   AMT_REQ_CREDIT_BUREAU_QRT  AMT_REQ_CREDIT_BUREAU_YEAR  \n",
              "0                        0.0                         1.0  \n",
              "1                        0.0                         0.0  \n",
              "2                        0.0                         0.0  \n",
              "3                        NaN                         NaN  \n",
              "4                        0.0                         0.0  \n",
              "\n",
              "[5 rows x 122 columns]"
            ],
            "text/html": [
              "\n",
              "  <div id=\"df-fe225321-b088-4918-97c0-54bc8b8f6b99\">\n",
              "    <div class=\"colab-df-container\">\n",
              "      <div>\n",
              "<style scoped>\n",
              "    .dataframe tbody tr th:only-of-type {\n",
              "        vertical-align: middle;\n",
              "    }\n",
              "\n",
              "    .dataframe tbody tr th {\n",
              "        vertical-align: top;\n",
              "    }\n",
              "\n",
              "    .dataframe thead th {\n",
              "        text-align: right;\n",
              "    }\n",
              "</style>\n",
              "<table border=\"1\" class=\"dataframe\">\n",
              "  <thead>\n",
              "    <tr style=\"text-align: right;\">\n",
              "      <th></th>\n",
              "      <th>SK_ID_CURR</th>\n",
              "      <th>TARGET</th>\n",
              "      <th>NAME_CONTRACT_TYPE</th>\n",
              "      <th>CODE_GENDER</th>\n",
              "      <th>FLAG_OWN_CAR</th>\n",
              "      <th>FLAG_OWN_REALTY</th>\n",
              "      <th>CNT_CHILDREN</th>\n",
              "      <th>AMT_INCOME_TOTAL</th>\n",
              "      <th>AMT_CREDIT</th>\n",
              "      <th>AMT_ANNUITY</th>\n",
              "      <th>...</th>\n",
              "      <th>FLAG_DOCUMENT_18</th>\n",
              "      <th>FLAG_DOCUMENT_19</th>\n",
              "      <th>FLAG_DOCUMENT_20</th>\n",
              "      <th>FLAG_DOCUMENT_21</th>\n",
              "      <th>AMT_REQ_CREDIT_BUREAU_HOUR</th>\n",
              "      <th>AMT_REQ_CREDIT_BUREAU_DAY</th>\n",
              "      <th>AMT_REQ_CREDIT_BUREAU_WEEK</th>\n",
              "      <th>AMT_REQ_CREDIT_BUREAU_MON</th>\n",
              "      <th>AMT_REQ_CREDIT_BUREAU_QRT</th>\n",
              "      <th>AMT_REQ_CREDIT_BUREAU_YEAR</th>\n",
              "    </tr>\n",
              "  </thead>\n",
              "  <tbody>\n",
              "    <tr>\n",
              "      <th>0</th>\n",
              "      <td>100002</td>\n",
              "      <td>1</td>\n",
              "      <td>Cash loans</td>\n",
              "      <td>M</td>\n",
              "      <td>N</td>\n",
              "      <td>Y</td>\n",
              "      <td>0</td>\n",
              "      <td>202500.0</td>\n",
              "      <td>406597.5</td>\n",
              "      <td>24700.5</td>\n",
              "      <td>...</td>\n",
              "      <td>0</td>\n",
              "      <td>0</td>\n",
              "      <td>0</td>\n",
              "      <td>0</td>\n",
              "      <td>0.0</td>\n",
              "      <td>0.0</td>\n",
              "      <td>0.0</td>\n",
              "      <td>0.0</td>\n",
              "      <td>0.0</td>\n",
              "      <td>1.0</td>\n",
              "    </tr>\n",
              "    <tr>\n",
              "      <th>1</th>\n",
              "      <td>100003</td>\n",
              "      <td>0</td>\n",
              "      <td>Cash loans</td>\n",
              "      <td>F</td>\n",
              "      <td>N</td>\n",
              "      <td>N</td>\n",
              "      <td>0</td>\n",
              "      <td>270000.0</td>\n",
              "      <td>1293502.5</td>\n",
              "      <td>35698.5</td>\n",
              "      <td>...</td>\n",
              "      <td>0</td>\n",
              "      <td>0</td>\n",
              "      <td>0</td>\n",
              "      <td>0</td>\n",
              "      <td>0.0</td>\n",
              "      <td>0.0</td>\n",
              "      <td>0.0</td>\n",
              "      <td>0.0</td>\n",
              "      <td>0.0</td>\n",
              "      <td>0.0</td>\n",
              "    </tr>\n",
              "    <tr>\n",
              "      <th>2</th>\n",
              "      <td>100004</td>\n",
              "      <td>0</td>\n",
              "      <td>Revolving loans</td>\n",
              "      <td>M</td>\n",
              "      <td>Y</td>\n",
              "      <td>Y</td>\n",
              "      <td>0</td>\n",
              "      <td>67500.0</td>\n",
              "      <td>135000.0</td>\n",
              "      <td>6750.0</td>\n",
              "      <td>...</td>\n",
              "      <td>0</td>\n",
              "      <td>0</td>\n",
              "      <td>0</td>\n",
              "      <td>0</td>\n",
              "      <td>0.0</td>\n",
              "      <td>0.0</td>\n",
              "      <td>0.0</td>\n",
              "      <td>0.0</td>\n",
              "      <td>0.0</td>\n",
              "      <td>0.0</td>\n",
              "    </tr>\n",
              "    <tr>\n",
              "      <th>3</th>\n",
              "      <td>100006</td>\n",
              "      <td>0</td>\n",
              "      <td>Cash loans</td>\n",
              "      <td>F</td>\n",
              "      <td>N</td>\n",
              "      <td>Y</td>\n",
              "      <td>0</td>\n",
              "      <td>135000.0</td>\n",
              "      <td>312682.5</td>\n",
              "      <td>29686.5</td>\n",
              "      <td>...</td>\n",
              "      <td>0</td>\n",
              "      <td>0</td>\n",
              "      <td>0</td>\n",
              "      <td>0</td>\n",
              "      <td>NaN</td>\n",
              "      <td>NaN</td>\n",
              "      <td>NaN</td>\n",
              "      <td>NaN</td>\n",
              "      <td>NaN</td>\n",
              "      <td>NaN</td>\n",
              "    </tr>\n",
              "    <tr>\n",
              "      <th>4</th>\n",
              "      <td>100007</td>\n",
              "      <td>0</td>\n",
              "      <td>Cash loans</td>\n",
              "      <td>M</td>\n",
              "      <td>N</td>\n",
              "      <td>Y</td>\n",
              "      <td>0</td>\n",
              "      <td>121500.0</td>\n",
              "      <td>513000.0</td>\n",
              "      <td>21865.5</td>\n",
              "      <td>...</td>\n",
              "      <td>0</td>\n",
              "      <td>0</td>\n",
              "      <td>0</td>\n",
              "      <td>0</td>\n",
              "      <td>0.0</td>\n",
              "      <td>0.0</td>\n",
              "      <td>0.0</td>\n",
              "      <td>0.0</td>\n",
              "      <td>0.0</td>\n",
              "      <td>0.0</td>\n",
              "    </tr>\n",
              "  </tbody>\n",
              "</table>\n",
              "<p>5 rows × 122 columns</p>\n",
              "</div>\n",
              "      <button class=\"colab-df-convert\" onclick=\"convertToInteractive('df-fe225321-b088-4918-97c0-54bc8b8f6b99')\"\n",
              "              title=\"Convert this dataframe to an interactive table.\"\n",
              "              style=\"display:none;\">\n",
              "        \n",
              "  <svg xmlns=\"http://www.w3.org/2000/svg\" height=\"24px\"viewBox=\"0 0 24 24\"\n",
              "       width=\"24px\">\n",
              "    <path d=\"M0 0h24v24H0V0z\" fill=\"none\"/>\n",
              "    <path d=\"M18.56 5.44l.94 2.06.94-2.06 2.06-.94-2.06-.94-.94-2.06-.94 2.06-2.06.94zm-11 1L8.5 8.5l.94-2.06 2.06-.94-2.06-.94L8.5 2.5l-.94 2.06-2.06.94zm10 10l.94 2.06.94-2.06 2.06-.94-2.06-.94-.94-2.06-.94 2.06-2.06.94z\"/><path d=\"M17.41 7.96l-1.37-1.37c-.4-.4-.92-.59-1.43-.59-.52 0-1.04.2-1.43.59L10.3 9.45l-7.72 7.72c-.78.78-.78 2.05 0 2.83L4 21.41c.39.39.9.59 1.41.59.51 0 1.02-.2 1.41-.59l7.78-7.78 2.81-2.81c.8-.78.8-2.07 0-2.86zM5.41 20L4 18.59l7.72-7.72 1.47 1.35L5.41 20z\"/>\n",
              "  </svg>\n",
              "      </button>\n",
              "      \n",
              "  <style>\n",
              "    .colab-df-container {\n",
              "      display:flex;\n",
              "      flex-wrap:wrap;\n",
              "      gap: 12px;\n",
              "    }\n",
              "\n",
              "    .colab-df-convert {\n",
              "      background-color: #E8F0FE;\n",
              "      border: none;\n",
              "      border-radius: 50%;\n",
              "      cursor: pointer;\n",
              "      display: none;\n",
              "      fill: #1967D2;\n",
              "      height: 32px;\n",
              "      padding: 0 0 0 0;\n",
              "      width: 32px;\n",
              "    }\n",
              "\n",
              "    .colab-df-convert:hover {\n",
              "      background-color: #E2EBFA;\n",
              "      box-shadow: 0px 1px 2px rgba(60, 64, 67, 0.3), 0px 1px 3px 1px rgba(60, 64, 67, 0.15);\n",
              "      fill: #174EA6;\n",
              "    }\n",
              "\n",
              "    [theme=dark] .colab-df-convert {\n",
              "      background-color: #3B4455;\n",
              "      fill: #D2E3FC;\n",
              "    }\n",
              "\n",
              "    [theme=dark] .colab-df-convert:hover {\n",
              "      background-color: #434B5C;\n",
              "      box-shadow: 0px 1px 3px 1px rgba(0, 0, 0, 0.15);\n",
              "      filter: drop-shadow(0px 1px 2px rgba(0, 0, 0, 0.3));\n",
              "      fill: #FFFFFF;\n",
              "    }\n",
              "  </style>\n",
              "\n",
              "      <script>\n",
              "        const buttonEl =\n",
              "          document.querySelector('#df-fe225321-b088-4918-97c0-54bc8b8f6b99 button.colab-df-convert');\n",
              "        buttonEl.style.display =\n",
              "          google.colab.kernel.accessAllowed ? 'block' : 'none';\n",
              "\n",
              "        async function convertToInteractive(key) {\n",
              "          const element = document.querySelector('#df-fe225321-b088-4918-97c0-54bc8b8f6b99');\n",
              "          const dataTable =\n",
              "            await google.colab.kernel.invokeFunction('convertToInteractive',\n",
              "                                                     [key], {});\n",
              "          if (!dataTable) return;\n",
              "\n",
              "          const docLinkHtml = 'Like what you see? Visit the ' +\n",
              "            '<a target=\"_blank\" href=https://colab.research.google.com/notebooks/data_table.ipynb>data table notebook</a>'\n",
              "            + ' to learn more about interactive tables.';\n",
              "          element.innerHTML = '';\n",
              "          dataTable['output_type'] = 'display_data';\n",
              "          await google.colab.output.renderOutput(dataTable, element);\n",
              "          const docLink = document.createElement('div');\n",
              "          docLink.innerHTML = docLinkHtml;\n",
              "          element.appendChild(docLink);\n",
              "        }\n",
              "      </script>\n",
              "    </div>\n",
              "  </div>\n",
              "  "
            ]
          },
          "metadata": {},
          "execution_count": 6
        }
      ]
    },
    {
      "cell_type": "code",
      "source": [
        "# Loading Dataset : previous_application\n",
        "df_prev=pd.read_csv('/content/drive/MyDrive/Exam docs/AAS_Project/Copy of previous_application.csv')"
      ],
      "metadata": {
        "id": "wN2EGMYwnFL4"
      },
      "execution_count": null,
      "outputs": []
    },
    {
      "cell_type": "code",
      "source": [
        "# printing the first 5 records\n",
        "df_prev.head()"
      ],
      "metadata": {
        "colab": {
          "base_uri": "https://localhost:8080/",
          "height": 317
        },
        "id": "FA6VeQjvnQZT",
        "outputId": "96d3e5f4-f9fe-46ff-f30f-b56935097e4d"
      },
      "execution_count": null,
      "outputs": [
        {
          "output_type": "execute_result",
          "data": {
            "text/plain": [
              "   SK_ID_PREV  SK_ID_CURR NAME_CONTRACT_TYPE  AMT_ANNUITY  AMT_APPLICATION  \\\n",
              "0     2030495      271877     Consumer loans     1730.430          17145.0   \n",
              "1     2802425      108129         Cash loans    25188.615         607500.0   \n",
              "2     2523466      122040         Cash loans    15060.735         112500.0   \n",
              "3     2819243      176158         Cash loans    47041.335         450000.0   \n",
              "4     1784265      202054         Cash loans    31924.395         337500.0   \n",
              "\n",
              "   AMT_CREDIT  AMT_DOWN_PAYMENT  AMT_GOODS_PRICE WEEKDAY_APPR_PROCESS_START  \\\n",
              "0     17145.0               0.0          17145.0                   SATURDAY   \n",
              "1    679671.0               NaN         607500.0                   THURSDAY   \n",
              "2    136444.5               NaN         112500.0                    TUESDAY   \n",
              "3    470790.0               NaN         450000.0                     MONDAY   \n",
              "4    404055.0               NaN         337500.0                   THURSDAY   \n",
              "\n",
              "   HOUR_APPR_PROCESS_START  ... NAME_SELLER_INDUSTRY  CNT_PAYMENT  \\\n",
              "0                       15  ...         Connectivity         12.0   \n",
              "1                       11  ...                  XNA         36.0   \n",
              "2                       11  ...                  XNA         12.0   \n",
              "3                        7  ...                  XNA         12.0   \n",
              "4                        9  ...                  XNA         24.0   \n",
              "\n",
              "   NAME_YIELD_GROUP       PRODUCT_COMBINATION  DAYS_FIRST_DRAWING  \\\n",
              "0            middle  POS mobile with interest            365243.0   \n",
              "1        low_action          Cash X-Sell: low            365243.0   \n",
              "2              high         Cash X-Sell: high            365243.0   \n",
              "3            middle       Cash X-Sell: middle            365243.0   \n",
              "4              high         Cash Street: high                 NaN   \n",
              "\n",
              "  DAYS_FIRST_DUE DAYS_LAST_DUE_1ST_VERSION  DAYS_LAST_DUE DAYS_TERMINATION  \\\n",
              "0          -42.0                     300.0          -42.0            -37.0   \n",
              "1         -134.0                     916.0       365243.0         365243.0   \n",
              "2         -271.0                      59.0       365243.0         365243.0   \n",
              "3         -482.0                    -152.0         -182.0           -177.0   \n",
              "4            NaN                       NaN            NaN              NaN   \n",
              "\n",
              "  NFLAG_INSURED_ON_APPROVAL  \n",
              "0                       0.0  \n",
              "1                       1.0  \n",
              "2                       1.0  \n",
              "3                       1.0  \n",
              "4                       NaN  \n",
              "\n",
              "[5 rows x 37 columns]"
            ],
            "text/html": [
              "\n",
              "  <div id=\"df-b51f7055-3b8b-42f5-a971-d35e5a8a8631\">\n",
              "    <div class=\"colab-df-container\">\n",
              "      <div>\n",
              "<style scoped>\n",
              "    .dataframe tbody tr th:only-of-type {\n",
              "        vertical-align: middle;\n",
              "    }\n",
              "\n",
              "    .dataframe tbody tr th {\n",
              "        vertical-align: top;\n",
              "    }\n",
              "\n",
              "    .dataframe thead th {\n",
              "        text-align: right;\n",
              "    }\n",
              "</style>\n",
              "<table border=\"1\" class=\"dataframe\">\n",
              "  <thead>\n",
              "    <tr style=\"text-align: right;\">\n",
              "      <th></th>\n",
              "      <th>SK_ID_PREV</th>\n",
              "      <th>SK_ID_CURR</th>\n",
              "      <th>NAME_CONTRACT_TYPE</th>\n",
              "      <th>AMT_ANNUITY</th>\n",
              "      <th>AMT_APPLICATION</th>\n",
              "      <th>AMT_CREDIT</th>\n",
              "      <th>AMT_DOWN_PAYMENT</th>\n",
              "      <th>AMT_GOODS_PRICE</th>\n",
              "      <th>WEEKDAY_APPR_PROCESS_START</th>\n",
              "      <th>HOUR_APPR_PROCESS_START</th>\n",
              "      <th>...</th>\n",
              "      <th>NAME_SELLER_INDUSTRY</th>\n",
              "      <th>CNT_PAYMENT</th>\n",
              "      <th>NAME_YIELD_GROUP</th>\n",
              "      <th>PRODUCT_COMBINATION</th>\n",
              "      <th>DAYS_FIRST_DRAWING</th>\n",
              "      <th>DAYS_FIRST_DUE</th>\n",
              "      <th>DAYS_LAST_DUE_1ST_VERSION</th>\n",
              "      <th>DAYS_LAST_DUE</th>\n",
              "      <th>DAYS_TERMINATION</th>\n",
              "      <th>NFLAG_INSURED_ON_APPROVAL</th>\n",
              "    </tr>\n",
              "  </thead>\n",
              "  <tbody>\n",
              "    <tr>\n",
              "      <th>0</th>\n",
              "      <td>2030495</td>\n",
              "      <td>271877</td>\n",
              "      <td>Consumer loans</td>\n",
              "      <td>1730.430</td>\n",
              "      <td>17145.0</td>\n",
              "      <td>17145.0</td>\n",
              "      <td>0.0</td>\n",
              "      <td>17145.0</td>\n",
              "      <td>SATURDAY</td>\n",
              "      <td>15</td>\n",
              "      <td>...</td>\n",
              "      <td>Connectivity</td>\n",
              "      <td>12.0</td>\n",
              "      <td>middle</td>\n",
              "      <td>POS mobile with interest</td>\n",
              "      <td>365243.0</td>\n",
              "      <td>-42.0</td>\n",
              "      <td>300.0</td>\n",
              "      <td>-42.0</td>\n",
              "      <td>-37.0</td>\n",
              "      <td>0.0</td>\n",
              "    </tr>\n",
              "    <tr>\n",
              "      <th>1</th>\n",
              "      <td>2802425</td>\n",
              "      <td>108129</td>\n",
              "      <td>Cash loans</td>\n",
              "      <td>25188.615</td>\n",
              "      <td>607500.0</td>\n",
              "      <td>679671.0</td>\n",
              "      <td>NaN</td>\n",
              "      <td>607500.0</td>\n",
              "      <td>THURSDAY</td>\n",
              "      <td>11</td>\n",
              "      <td>...</td>\n",
              "      <td>XNA</td>\n",
              "      <td>36.0</td>\n",
              "      <td>low_action</td>\n",
              "      <td>Cash X-Sell: low</td>\n",
              "      <td>365243.0</td>\n",
              "      <td>-134.0</td>\n",
              "      <td>916.0</td>\n",
              "      <td>365243.0</td>\n",
              "      <td>365243.0</td>\n",
              "      <td>1.0</td>\n",
              "    </tr>\n",
              "    <tr>\n",
              "      <th>2</th>\n",
              "      <td>2523466</td>\n",
              "      <td>122040</td>\n",
              "      <td>Cash loans</td>\n",
              "      <td>15060.735</td>\n",
              "      <td>112500.0</td>\n",
              "      <td>136444.5</td>\n",
              "      <td>NaN</td>\n",
              "      <td>112500.0</td>\n",
              "      <td>TUESDAY</td>\n",
              "      <td>11</td>\n",
              "      <td>...</td>\n",
              "      <td>XNA</td>\n",
              "      <td>12.0</td>\n",
              "      <td>high</td>\n",
              "      <td>Cash X-Sell: high</td>\n",
              "      <td>365243.0</td>\n",
              "      <td>-271.0</td>\n",
              "      <td>59.0</td>\n",
              "      <td>365243.0</td>\n",
              "      <td>365243.0</td>\n",
              "      <td>1.0</td>\n",
              "    </tr>\n",
              "    <tr>\n",
              "      <th>3</th>\n",
              "      <td>2819243</td>\n",
              "      <td>176158</td>\n",
              "      <td>Cash loans</td>\n",
              "      <td>47041.335</td>\n",
              "      <td>450000.0</td>\n",
              "      <td>470790.0</td>\n",
              "      <td>NaN</td>\n",
              "      <td>450000.0</td>\n",
              "      <td>MONDAY</td>\n",
              "      <td>7</td>\n",
              "      <td>...</td>\n",
              "      <td>XNA</td>\n",
              "      <td>12.0</td>\n",
              "      <td>middle</td>\n",
              "      <td>Cash X-Sell: middle</td>\n",
              "      <td>365243.0</td>\n",
              "      <td>-482.0</td>\n",
              "      <td>-152.0</td>\n",
              "      <td>-182.0</td>\n",
              "      <td>-177.0</td>\n",
              "      <td>1.0</td>\n",
              "    </tr>\n",
              "    <tr>\n",
              "      <th>4</th>\n",
              "      <td>1784265</td>\n",
              "      <td>202054</td>\n",
              "      <td>Cash loans</td>\n",
              "      <td>31924.395</td>\n",
              "      <td>337500.0</td>\n",
              "      <td>404055.0</td>\n",
              "      <td>NaN</td>\n",
              "      <td>337500.0</td>\n",
              "      <td>THURSDAY</td>\n",
              "      <td>9</td>\n",
              "      <td>...</td>\n",
              "      <td>XNA</td>\n",
              "      <td>24.0</td>\n",
              "      <td>high</td>\n",
              "      <td>Cash Street: high</td>\n",
              "      <td>NaN</td>\n",
              "      <td>NaN</td>\n",
              "      <td>NaN</td>\n",
              "      <td>NaN</td>\n",
              "      <td>NaN</td>\n",
              "      <td>NaN</td>\n",
              "    </tr>\n",
              "  </tbody>\n",
              "</table>\n",
              "<p>5 rows × 37 columns</p>\n",
              "</div>\n",
              "      <button class=\"colab-df-convert\" onclick=\"convertToInteractive('df-b51f7055-3b8b-42f5-a971-d35e5a8a8631')\"\n",
              "              title=\"Convert this dataframe to an interactive table.\"\n",
              "              style=\"display:none;\">\n",
              "        \n",
              "  <svg xmlns=\"http://www.w3.org/2000/svg\" height=\"24px\"viewBox=\"0 0 24 24\"\n",
              "       width=\"24px\">\n",
              "    <path d=\"M0 0h24v24H0V0z\" fill=\"none\"/>\n",
              "    <path d=\"M18.56 5.44l.94 2.06.94-2.06 2.06-.94-2.06-.94-.94-2.06-.94 2.06-2.06.94zm-11 1L8.5 8.5l.94-2.06 2.06-.94-2.06-.94L8.5 2.5l-.94 2.06-2.06.94zm10 10l.94 2.06.94-2.06 2.06-.94-2.06-.94-.94-2.06-.94 2.06-2.06.94z\"/><path d=\"M17.41 7.96l-1.37-1.37c-.4-.4-.92-.59-1.43-.59-.52 0-1.04.2-1.43.59L10.3 9.45l-7.72 7.72c-.78.78-.78 2.05 0 2.83L4 21.41c.39.39.9.59 1.41.59.51 0 1.02-.2 1.41-.59l7.78-7.78 2.81-2.81c.8-.78.8-2.07 0-2.86zM5.41 20L4 18.59l7.72-7.72 1.47 1.35L5.41 20z\"/>\n",
              "  </svg>\n",
              "      </button>\n",
              "      \n",
              "  <style>\n",
              "    .colab-df-container {\n",
              "      display:flex;\n",
              "      flex-wrap:wrap;\n",
              "      gap: 12px;\n",
              "    }\n",
              "\n",
              "    .colab-df-convert {\n",
              "      background-color: #E8F0FE;\n",
              "      border: none;\n",
              "      border-radius: 50%;\n",
              "      cursor: pointer;\n",
              "      display: none;\n",
              "      fill: #1967D2;\n",
              "      height: 32px;\n",
              "      padding: 0 0 0 0;\n",
              "      width: 32px;\n",
              "    }\n",
              "\n",
              "    .colab-df-convert:hover {\n",
              "      background-color: #E2EBFA;\n",
              "      box-shadow: 0px 1px 2px rgba(60, 64, 67, 0.3), 0px 1px 3px 1px rgba(60, 64, 67, 0.15);\n",
              "      fill: #174EA6;\n",
              "    }\n",
              "\n",
              "    [theme=dark] .colab-df-convert {\n",
              "      background-color: #3B4455;\n",
              "      fill: #D2E3FC;\n",
              "    }\n",
              "\n",
              "    [theme=dark] .colab-df-convert:hover {\n",
              "      background-color: #434B5C;\n",
              "      box-shadow: 0px 1px 3px 1px rgba(0, 0, 0, 0.15);\n",
              "      filter: drop-shadow(0px 1px 2px rgba(0, 0, 0, 0.3));\n",
              "      fill: #FFFFFF;\n",
              "    }\n",
              "  </style>\n",
              "\n",
              "      <script>\n",
              "        const buttonEl =\n",
              "          document.querySelector('#df-b51f7055-3b8b-42f5-a971-d35e5a8a8631 button.colab-df-convert');\n",
              "        buttonEl.style.display =\n",
              "          google.colab.kernel.accessAllowed ? 'block' : 'none';\n",
              "\n",
              "        async function convertToInteractive(key) {\n",
              "          const element = document.querySelector('#df-b51f7055-3b8b-42f5-a971-d35e5a8a8631');\n",
              "          const dataTable =\n",
              "            await google.colab.kernel.invokeFunction('convertToInteractive',\n",
              "                                                     [key], {});\n",
              "          if (!dataTable) return;\n",
              "\n",
              "          const docLinkHtml = 'Like what you see? Visit the ' +\n",
              "            '<a target=\"_blank\" href=https://colab.research.google.com/notebooks/data_table.ipynb>data table notebook</a>'\n",
              "            + ' to learn more about interactive tables.';\n",
              "          element.innerHTML = '';\n",
              "          dataTable['output_type'] = 'display_data';\n",
              "          await google.colab.output.renderOutput(dataTable, element);\n",
              "          const docLink = document.createElement('div');\n",
              "          docLink.innerHTML = docLinkHtml;\n",
              "          element.appendChild(docLink);\n",
              "        }\n",
              "      </script>\n",
              "    </div>\n",
              "  </div>\n",
              "  "
            ]
          },
          "metadata": {},
          "execution_count": 8
        }
      ]
    },
    {
      "cell_type": "code",
      "source": [
        "# Checking the numner of rows and columns in the dataset application_data (1).csv\n",
        "\n",
        "df_app.shape\n",
        "\n",
        "#---Observation--\n",
        "# the number of records=307511, the number of columns=122"
      ],
      "metadata": {
        "colab": {
          "base_uri": "https://localhost:8080/"
        },
        "id": "D87KuYUOq-gy",
        "outputId": "b9357c5f-a6df-4aed-edd3-013909dd180d"
      },
      "execution_count": null,
      "outputs": [
        {
          "output_type": "execute_result",
          "data": {
            "text/plain": [
              "(307511, 122)"
            ]
          },
          "metadata": {},
          "execution_count": 9
        }
      ]
    },
    {
      "cell_type": "code",
      "source": [
        "# Checking the numner of rows and columns in the dataset previous_application.csv\n",
        "df_prev.shape\n",
        "\n",
        "#---Observation--\n",
        "#  the number of records=1670214, the number of columns=37"
      ],
      "metadata": {
        "colab": {
          "base_uri": "https://localhost:8080/"
        },
        "id": "p4g047QpsNEU",
        "outputId": "098348f4-bcee-419b-b40e-817041b2c635"
      },
      "execution_count": null,
      "outputs": [
        {
          "output_type": "execute_result",
          "data": {
            "text/plain": [
              "(1670214, 37)"
            ]
          },
          "metadata": {},
          "execution_count": 10
        }
      ]
    },
    {
      "cell_type": "code",
      "source": [
        "# Checking the column data size and data types\n",
        "\n",
        "df_app.info()"
      ],
      "metadata": {
        "colab": {
          "base_uri": "https://localhost:8080/"
        },
        "id": "surVBPrZwdBX",
        "outputId": "d2c28387-8919-4c68-ac1d-d45374dddd99"
      },
      "execution_count": null,
      "outputs": [
        {
          "output_type": "stream",
          "name": "stdout",
          "text": [
            "<class 'pandas.core.frame.DataFrame'>\n",
            "RangeIndex: 307511 entries, 0 to 307510\n",
            "Columns: 122 entries, SK_ID_CURR to AMT_REQ_CREDIT_BUREAU_YEAR\n",
            "dtypes: float64(65), int64(41), object(16)\n",
            "memory usage: 286.2+ MB\n"
          ]
        }
      ]
    },
    {
      "cell_type": "code",
      "source": [
        "# Checking the column data size and data types\n",
        "df_prev.info()"
      ],
      "metadata": {
        "colab": {
          "base_uri": "https://localhost:8080/"
        },
        "id": "9jAK62qbvqM2",
        "outputId": "fe670133-0541-4901-c05e-4cf427b366a0"
      },
      "execution_count": null,
      "outputs": [
        {
          "output_type": "stream",
          "name": "stdout",
          "text": [
            "<class 'pandas.core.frame.DataFrame'>\n",
            "RangeIndex: 1670214 entries, 0 to 1670213\n",
            "Data columns (total 37 columns):\n",
            " #   Column                       Non-Null Count    Dtype  \n",
            "---  ------                       --------------    -----  \n",
            " 0   SK_ID_PREV                   1670214 non-null  int64  \n",
            " 1   SK_ID_CURR                   1670214 non-null  int64  \n",
            " 2   NAME_CONTRACT_TYPE           1670214 non-null  object \n",
            " 3   AMT_ANNUITY                  1297979 non-null  float64\n",
            " 4   AMT_APPLICATION              1670214 non-null  float64\n",
            " 5   AMT_CREDIT                   1670213 non-null  float64\n",
            " 6   AMT_DOWN_PAYMENT             774370 non-null   float64\n",
            " 7   AMT_GOODS_PRICE              1284699 non-null  float64\n",
            " 8   WEEKDAY_APPR_PROCESS_START   1670214 non-null  object \n",
            " 9   HOUR_APPR_PROCESS_START      1670214 non-null  int64  \n",
            " 10  FLAG_LAST_APPL_PER_CONTRACT  1670214 non-null  object \n",
            " 11  NFLAG_LAST_APPL_IN_DAY       1670214 non-null  int64  \n",
            " 12  RATE_DOWN_PAYMENT            774370 non-null   float64\n",
            " 13  RATE_INTEREST_PRIMARY        5951 non-null     float64\n",
            " 14  RATE_INTEREST_PRIVILEGED     5951 non-null     float64\n",
            " 15  NAME_CASH_LOAN_PURPOSE       1670214 non-null  object \n",
            " 16  NAME_CONTRACT_STATUS         1670214 non-null  object \n",
            " 17  DAYS_DECISION                1670214 non-null  int64  \n",
            " 18  NAME_PAYMENT_TYPE            1670214 non-null  object \n",
            " 19  CODE_REJECT_REASON           1670214 non-null  object \n",
            " 20  NAME_TYPE_SUITE              849809 non-null   object \n",
            " 21  NAME_CLIENT_TYPE             1670214 non-null  object \n",
            " 22  NAME_GOODS_CATEGORY          1670214 non-null  object \n",
            " 23  NAME_PORTFOLIO               1670214 non-null  object \n",
            " 24  NAME_PRODUCT_TYPE            1670214 non-null  object \n",
            " 25  CHANNEL_TYPE                 1670214 non-null  object \n",
            " 26  SELLERPLACE_AREA             1670214 non-null  int64  \n",
            " 27  NAME_SELLER_INDUSTRY         1670214 non-null  object \n",
            " 28  CNT_PAYMENT                  1297984 non-null  float64\n",
            " 29  NAME_YIELD_GROUP             1670214 non-null  object \n",
            " 30  PRODUCT_COMBINATION          1669868 non-null  object \n",
            " 31  DAYS_FIRST_DRAWING           997149 non-null   float64\n",
            " 32  DAYS_FIRST_DUE               997149 non-null   float64\n",
            " 33  DAYS_LAST_DUE_1ST_VERSION    997149 non-null   float64\n",
            " 34  DAYS_LAST_DUE                997149 non-null   float64\n",
            " 35  DAYS_TERMINATION             997149 non-null   float64\n",
            " 36  NFLAG_INSURED_ON_APPROVAL    997149 non-null   float64\n",
            "dtypes: float64(15), int64(6), object(16)\n",
            "memory usage: 471.5+ MB\n"
          ]
        }
      ]
    },
    {
      "cell_type": "code",
      "source": [
        "#Checking the statistical data : application_data\n",
        "\n",
        "df_app.describe()"
      ],
      "metadata": {
        "colab": {
          "base_uri": "https://localhost:8080/",
          "height": 393
        },
        "id": "UBxjp8PHv4oV",
        "outputId": "37fe330d-adb3-40cb-c566-0391d601a414"
      },
      "execution_count": null,
      "outputs": [
        {
          "output_type": "execute_result",
          "data": {
            "text/plain": [
              "          SK_ID_CURR         TARGET   CNT_CHILDREN  AMT_INCOME_TOTAL  \\\n",
              "count  307511.000000  307511.000000  307511.000000      3.075110e+05   \n",
              "mean   278180.518577       0.080729       0.417052      1.687979e+05   \n",
              "std    102790.175348       0.272419       0.722121      2.371231e+05   \n",
              "min    100002.000000       0.000000       0.000000      2.565000e+04   \n",
              "25%    189145.500000       0.000000       0.000000      1.125000e+05   \n",
              "50%    278202.000000       0.000000       0.000000      1.471500e+05   \n",
              "75%    367142.500000       0.000000       1.000000      2.025000e+05   \n",
              "max    456255.000000       1.000000      19.000000      1.170000e+08   \n",
              "\n",
              "         AMT_CREDIT    AMT_ANNUITY  AMT_GOODS_PRICE  \\\n",
              "count  3.075110e+05  307499.000000     3.072330e+05   \n",
              "mean   5.990260e+05   27108.573909     5.383962e+05   \n",
              "std    4.024908e+05   14493.737315     3.694465e+05   \n",
              "min    4.500000e+04    1615.500000     4.050000e+04   \n",
              "25%    2.700000e+05   16524.000000     2.385000e+05   \n",
              "50%    5.135310e+05   24903.000000     4.500000e+05   \n",
              "75%    8.086500e+05   34596.000000     6.795000e+05   \n",
              "max    4.050000e+06  258025.500000     4.050000e+06   \n",
              "\n",
              "       REGION_POPULATION_RELATIVE     DAYS_BIRTH  DAYS_EMPLOYED  ...  \\\n",
              "count               307511.000000  307511.000000  307511.000000  ...   \n",
              "mean                     0.020868  -16036.995067   63815.045904  ...   \n",
              "std                      0.013831    4363.988632  141275.766519  ...   \n",
              "min                      0.000290  -25229.000000  -17912.000000  ...   \n",
              "25%                      0.010006  -19682.000000   -2760.000000  ...   \n",
              "50%                      0.018850  -15750.000000   -1213.000000  ...   \n",
              "75%                      0.028663  -12413.000000    -289.000000  ...   \n",
              "max                      0.072508   -7489.000000  365243.000000  ...   \n",
              "\n",
              "       FLAG_DOCUMENT_18  FLAG_DOCUMENT_19  FLAG_DOCUMENT_20  FLAG_DOCUMENT_21  \\\n",
              "count     307511.000000     307511.000000     307511.000000     307511.000000   \n",
              "mean           0.008130          0.000595          0.000507          0.000335   \n",
              "std            0.089798          0.024387          0.022518          0.018299   \n",
              "min            0.000000          0.000000          0.000000          0.000000   \n",
              "25%            0.000000          0.000000          0.000000          0.000000   \n",
              "50%            0.000000          0.000000          0.000000          0.000000   \n",
              "75%            0.000000          0.000000          0.000000          0.000000   \n",
              "max            1.000000          1.000000          1.000000          1.000000   \n",
              "\n",
              "       AMT_REQ_CREDIT_BUREAU_HOUR  AMT_REQ_CREDIT_BUREAU_DAY  \\\n",
              "count               265992.000000              265992.000000   \n",
              "mean                     0.006402                   0.007000   \n",
              "std                      0.083849                   0.110757   \n",
              "min                      0.000000                   0.000000   \n",
              "25%                      0.000000                   0.000000   \n",
              "50%                      0.000000                   0.000000   \n",
              "75%                      0.000000                   0.000000   \n",
              "max                      4.000000                   9.000000   \n",
              "\n",
              "       AMT_REQ_CREDIT_BUREAU_WEEK  AMT_REQ_CREDIT_BUREAU_MON  \\\n",
              "count               265992.000000              265992.000000   \n",
              "mean                     0.034362                   0.267395   \n",
              "std                      0.204685                   0.916002   \n",
              "min                      0.000000                   0.000000   \n",
              "25%                      0.000000                   0.000000   \n",
              "50%                      0.000000                   0.000000   \n",
              "75%                      0.000000                   0.000000   \n",
              "max                      8.000000                  27.000000   \n",
              "\n",
              "       AMT_REQ_CREDIT_BUREAU_QRT  AMT_REQ_CREDIT_BUREAU_YEAR  \n",
              "count              265992.000000               265992.000000  \n",
              "mean                    0.265474                    1.899974  \n",
              "std                     0.794056                    1.869295  \n",
              "min                     0.000000                    0.000000  \n",
              "25%                     0.000000                    0.000000  \n",
              "50%                     0.000000                    1.000000  \n",
              "75%                     0.000000                    3.000000  \n",
              "max                   261.000000                   25.000000  \n",
              "\n",
              "[8 rows x 106 columns]"
            ],
            "text/html": [
              "\n",
              "  <div id=\"df-929e01f2-ff79-444a-b763-73836535e44e\">\n",
              "    <div class=\"colab-df-container\">\n",
              "      <div>\n",
              "<style scoped>\n",
              "    .dataframe tbody tr th:only-of-type {\n",
              "        vertical-align: middle;\n",
              "    }\n",
              "\n",
              "    .dataframe tbody tr th {\n",
              "        vertical-align: top;\n",
              "    }\n",
              "\n",
              "    .dataframe thead th {\n",
              "        text-align: right;\n",
              "    }\n",
              "</style>\n",
              "<table border=\"1\" class=\"dataframe\">\n",
              "  <thead>\n",
              "    <tr style=\"text-align: right;\">\n",
              "      <th></th>\n",
              "      <th>SK_ID_CURR</th>\n",
              "      <th>TARGET</th>\n",
              "      <th>CNT_CHILDREN</th>\n",
              "      <th>AMT_INCOME_TOTAL</th>\n",
              "      <th>AMT_CREDIT</th>\n",
              "      <th>AMT_ANNUITY</th>\n",
              "      <th>AMT_GOODS_PRICE</th>\n",
              "      <th>REGION_POPULATION_RELATIVE</th>\n",
              "      <th>DAYS_BIRTH</th>\n",
              "      <th>DAYS_EMPLOYED</th>\n",
              "      <th>...</th>\n",
              "      <th>FLAG_DOCUMENT_18</th>\n",
              "      <th>FLAG_DOCUMENT_19</th>\n",
              "      <th>FLAG_DOCUMENT_20</th>\n",
              "      <th>FLAG_DOCUMENT_21</th>\n",
              "      <th>AMT_REQ_CREDIT_BUREAU_HOUR</th>\n",
              "      <th>AMT_REQ_CREDIT_BUREAU_DAY</th>\n",
              "      <th>AMT_REQ_CREDIT_BUREAU_WEEK</th>\n",
              "      <th>AMT_REQ_CREDIT_BUREAU_MON</th>\n",
              "      <th>AMT_REQ_CREDIT_BUREAU_QRT</th>\n",
              "      <th>AMT_REQ_CREDIT_BUREAU_YEAR</th>\n",
              "    </tr>\n",
              "  </thead>\n",
              "  <tbody>\n",
              "    <tr>\n",
              "      <th>count</th>\n",
              "      <td>307511.000000</td>\n",
              "      <td>307511.000000</td>\n",
              "      <td>307511.000000</td>\n",
              "      <td>3.075110e+05</td>\n",
              "      <td>3.075110e+05</td>\n",
              "      <td>307499.000000</td>\n",
              "      <td>3.072330e+05</td>\n",
              "      <td>307511.000000</td>\n",
              "      <td>307511.000000</td>\n",
              "      <td>307511.000000</td>\n",
              "      <td>...</td>\n",
              "      <td>307511.000000</td>\n",
              "      <td>307511.000000</td>\n",
              "      <td>307511.000000</td>\n",
              "      <td>307511.000000</td>\n",
              "      <td>265992.000000</td>\n",
              "      <td>265992.000000</td>\n",
              "      <td>265992.000000</td>\n",
              "      <td>265992.000000</td>\n",
              "      <td>265992.000000</td>\n",
              "      <td>265992.000000</td>\n",
              "    </tr>\n",
              "    <tr>\n",
              "      <th>mean</th>\n",
              "      <td>278180.518577</td>\n",
              "      <td>0.080729</td>\n",
              "      <td>0.417052</td>\n",
              "      <td>1.687979e+05</td>\n",
              "      <td>5.990260e+05</td>\n",
              "      <td>27108.573909</td>\n",
              "      <td>5.383962e+05</td>\n",
              "      <td>0.020868</td>\n",
              "      <td>-16036.995067</td>\n",
              "      <td>63815.045904</td>\n",
              "      <td>...</td>\n",
              "      <td>0.008130</td>\n",
              "      <td>0.000595</td>\n",
              "      <td>0.000507</td>\n",
              "      <td>0.000335</td>\n",
              "      <td>0.006402</td>\n",
              "      <td>0.007000</td>\n",
              "      <td>0.034362</td>\n",
              "      <td>0.267395</td>\n",
              "      <td>0.265474</td>\n",
              "      <td>1.899974</td>\n",
              "    </tr>\n",
              "    <tr>\n",
              "      <th>std</th>\n",
              "      <td>102790.175348</td>\n",
              "      <td>0.272419</td>\n",
              "      <td>0.722121</td>\n",
              "      <td>2.371231e+05</td>\n",
              "      <td>4.024908e+05</td>\n",
              "      <td>14493.737315</td>\n",
              "      <td>3.694465e+05</td>\n",
              "      <td>0.013831</td>\n",
              "      <td>4363.988632</td>\n",
              "      <td>141275.766519</td>\n",
              "      <td>...</td>\n",
              "      <td>0.089798</td>\n",
              "      <td>0.024387</td>\n",
              "      <td>0.022518</td>\n",
              "      <td>0.018299</td>\n",
              "      <td>0.083849</td>\n",
              "      <td>0.110757</td>\n",
              "      <td>0.204685</td>\n",
              "      <td>0.916002</td>\n",
              "      <td>0.794056</td>\n",
              "      <td>1.869295</td>\n",
              "    </tr>\n",
              "    <tr>\n",
              "      <th>min</th>\n",
              "      <td>100002.000000</td>\n",
              "      <td>0.000000</td>\n",
              "      <td>0.000000</td>\n",
              "      <td>2.565000e+04</td>\n",
              "      <td>4.500000e+04</td>\n",
              "      <td>1615.500000</td>\n",
              "      <td>4.050000e+04</td>\n",
              "      <td>0.000290</td>\n",
              "      <td>-25229.000000</td>\n",
              "      <td>-17912.000000</td>\n",
              "      <td>...</td>\n",
              "      <td>0.000000</td>\n",
              "      <td>0.000000</td>\n",
              "      <td>0.000000</td>\n",
              "      <td>0.000000</td>\n",
              "      <td>0.000000</td>\n",
              "      <td>0.000000</td>\n",
              "      <td>0.000000</td>\n",
              "      <td>0.000000</td>\n",
              "      <td>0.000000</td>\n",
              "      <td>0.000000</td>\n",
              "    </tr>\n",
              "    <tr>\n",
              "      <th>25%</th>\n",
              "      <td>189145.500000</td>\n",
              "      <td>0.000000</td>\n",
              "      <td>0.000000</td>\n",
              "      <td>1.125000e+05</td>\n",
              "      <td>2.700000e+05</td>\n",
              "      <td>16524.000000</td>\n",
              "      <td>2.385000e+05</td>\n",
              "      <td>0.010006</td>\n",
              "      <td>-19682.000000</td>\n",
              "      <td>-2760.000000</td>\n",
              "      <td>...</td>\n",
              "      <td>0.000000</td>\n",
              "      <td>0.000000</td>\n",
              "      <td>0.000000</td>\n",
              "      <td>0.000000</td>\n",
              "      <td>0.000000</td>\n",
              "      <td>0.000000</td>\n",
              "      <td>0.000000</td>\n",
              "      <td>0.000000</td>\n",
              "      <td>0.000000</td>\n",
              "      <td>0.000000</td>\n",
              "    </tr>\n",
              "    <tr>\n",
              "      <th>50%</th>\n",
              "      <td>278202.000000</td>\n",
              "      <td>0.000000</td>\n",
              "      <td>0.000000</td>\n",
              "      <td>1.471500e+05</td>\n",
              "      <td>5.135310e+05</td>\n",
              "      <td>24903.000000</td>\n",
              "      <td>4.500000e+05</td>\n",
              "      <td>0.018850</td>\n",
              "      <td>-15750.000000</td>\n",
              "      <td>-1213.000000</td>\n",
              "      <td>...</td>\n",
              "      <td>0.000000</td>\n",
              "      <td>0.000000</td>\n",
              "      <td>0.000000</td>\n",
              "      <td>0.000000</td>\n",
              "      <td>0.000000</td>\n",
              "      <td>0.000000</td>\n",
              "      <td>0.000000</td>\n",
              "      <td>0.000000</td>\n",
              "      <td>0.000000</td>\n",
              "      <td>1.000000</td>\n",
              "    </tr>\n",
              "    <tr>\n",
              "      <th>75%</th>\n",
              "      <td>367142.500000</td>\n",
              "      <td>0.000000</td>\n",
              "      <td>1.000000</td>\n",
              "      <td>2.025000e+05</td>\n",
              "      <td>8.086500e+05</td>\n",
              "      <td>34596.000000</td>\n",
              "      <td>6.795000e+05</td>\n",
              "      <td>0.028663</td>\n",
              "      <td>-12413.000000</td>\n",
              "      <td>-289.000000</td>\n",
              "      <td>...</td>\n",
              "      <td>0.000000</td>\n",
              "      <td>0.000000</td>\n",
              "      <td>0.000000</td>\n",
              "      <td>0.000000</td>\n",
              "      <td>0.000000</td>\n",
              "      <td>0.000000</td>\n",
              "      <td>0.000000</td>\n",
              "      <td>0.000000</td>\n",
              "      <td>0.000000</td>\n",
              "      <td>3.000000</td>\n",
              "    </tr>\n",
              "    <tr>\n",
              "      <th>max</th>\n",
              "      <td>456255.000000</td>\n",
              "      <td>1.000000</td>\n",
              "      <td>19.000000</td>\n",
              "      <td>1.170000e+08</td>\n",
              "      <td>4.050000e+06</td>\n",
              "      <td>258025.500000</td>\n",
              "      <td>4.050000e+06</td>\n",
              "      <td>0.072508</td>\n",
              "      <td>-7489.000000</td>\n",
              "      <td>365243.000000</td>\n",
              "      <td>...</td>\n",
              "      <td>1.000000</td>\n",
              "      <td>1.000000</td>\n",
              "      <td>1.000000</td>\n",
              "      <td>1.000000</td>\n",
              "      <td>4.000000</td>\n",
              "      <td>9.000000</td>\n",
              "      <td>8.000000</td>\n",
              "      <td>27.000000</td>\n",
              "      <td>261.000000</td>\n",
              "      <td>25.000000</td>\n",
              "    </tr>\n",
              "  </tbody>\n",
              "</table>\n",
              "<p>8 rows × 106 columns</p>\n",
              "</div>\n",
              "      <button class=\"colab-df-convert\" onclick=\"convertToInteractive('df-929e01f2-ff79-444a-b763-73836535e44e')\"\n",
              "              title=\"Convert this dataframe to an interactive table.\"\n",
              "              style=\"display:none;\">\n",
              "        \n",
              "  <svg xmlns=\"http://www.w3.org/2000/svg\" height=\"24px\"viewBox=\"0 0 24 24\"\n",
              "       width=\"24px\">\n",
              "    <path d=\"M0 0h24v24H0V0z\" fill=\"none\"/>\n",
              "    <path d=\"M18.56 5.44l.94 2.06.94-2.06 2.06-.94-2.06-.94-.94-2.06-.94 2.06-2.06.94zm-11 1L8.5 8.5l.94-2.06 2.06-.94-2.06-.94L8.5 2.5l-.94 2.06-2.06.94zm10 10l.94 2.06.94-2.06 2.06-.94-2.06-.94-.94-2.06-.94 2.06-2.06.94z\"/><path d=\"M17.41 7.96l-1.37-1.37c-.4-.4-.92-.59-1.43-.59-.52 0-1.04.2-1.43.59L10.3 9.45l-7.72 7.72c-.78.78-.78 2.05 0 2.83L4 21.41c.39.39.9.59 1.41.59.51 0 1.02-.2 1.41-.59l7.78-7.78 2.81-2.81c.8-.78.8-2.07 0-2.86zM5.41 20L4 18.59l7.72-7.72 1.47 1.35L5.41 20z\"/>\n",
              "  </svg>\n",
              "      </button>\n",
              "      \n",
              "  <style>\n",
              "    .colab-df-container {\n",
              "      display:flex;\n",
              "      flex-wrap:wrap;\n",
              "      gap: 12px;\n",
              "    }\n",
              "\n",
              "    .colab-df-convert {\n",
              "      background-color: #E8F0FE;\n",
              "      border: none;\n",
              "      border-radius: 50%;\n",
              "      cursor: pointer;\n",
              "      display: none;\n",
              "      fill: #1967D2;\n",
              "      height: 32px;\n",
              "      padding: 0 0 0 0;\n",
              "      width: 32px;\n",
              "    }\n",
              "\n",
              "    .colab-df-convert:hover {\n",
              "      background-color: #E2EBFA;\n",
              "      box-shadow: 0px 1px 2px rgba(60, 64, 67, 0.3), 0px 1px 3px 1px rgba(60, 64, 67, 0.15);\n",
              "      fill: #174EA6;\n",
              "    }\n",
              "\n",
              "    [theme=dark] .colab-df-convert {\n",
              "      background-color: #3B4455;\n",
              "      fill: #D2E3FC;\n",
              "    }\n",
              "\n",
              "    [theme=dark] .colab-df-convert:hover {\n",
              "      background-color: #434B5C;\n",
              "      box-shadow: 0px 1px 3px 1px rgba(0, 0, 0, 0.15);\n",
              "      filter: drop-shadow(0px 1px 2px rgba(0, 0, 0, 0.3));\n",
              "      fill: #FFFFFF;\n",
              "    }\n",
              "  </style>\n",
              "\n",
              "      <script>\n",
              "        const buttonEl =\n",
              "          document.querySelector('#df-929e01f2-ff79-444a-b763-73836535e44e button.colab-df-convert');\n",
              "        buttonEl.style.display =\n",
              "          google.colab.kernel.accessAllowed ? 'block' : 'none';\n",
              "\n",
              "        async function convertToInteractive(key) {\n",
              "          const element = document.querySelector('#df-929e01f2-ff79-444a-b763-73836535e44e');\n",
              "          const dataTable =\n",
              "            await google.colab.kernel.invokeFunction('convertToInteractive',\n",
              "                                                     [key], {});\n",
              "          if (!dataTable) return;\n",
              "\n",
              "          const docLinkHtml = 'Like what you see? Visit the ' +\n",
              "            '<a target=\"_blank\" href=https://colab.research.google.com/notebooks/data_table.ipynb>data table notebook</a>'\n",
              "            + ' to learn more about interactive tables.';\n",
              "          element.innerHTML = '';\n",
              "          dataTable['output_type'] = 'display_data';\n",
              "          await google.colab.output.renderOutput(dataTable, element);\n",
              "          const docLink = document.createElement('div');\n",
              "          docLink.innerHTML = docLinkHtml;\n",
              "          element.appendChild(docLink);\n",
              "        }\n",
              "      </script>\n",
              "    </div>\n",
              "  </div>\n",
              "  "
            ]
          },
          "metadata": {},
          "execution_count": 13
        }
      ]
    },
    {
      "cell_type": "code",
      "source": [
        "#Checking the statistical data : previous_application\n",
        "\n",
        "df_prev.describe()"
      ],
      "metadata": {
        "colab": {
          "base_uri": "https://localhost:8080/",
          "height": 393
        },
        "id": "V7-jc1FGxm0s",
        "outputId": "8a58fec3-d0db-4740-8c69-0e8b7fa05d33"
      },
      "execution_count": null,
      "outputs": [
        {
          "output_type": "execute_result",
          "data": {
            "text/plain": [
              "         SK_ID_PREV    SK_ID_CURR   AMT_ANNUITY  AMT_APPLICATION  \\\n",
              "count  1.670214e+06  1.670214e+06  1.297979e+06     1.670214e+06   \n",
              "mean   1.923089e+06  2.783572e+05  1.595512e+04     1.752339e+05   \n",
              "std    5.325980e+05  1.028148e+05  1.478214e+04     2.927798e+05   \n",
              "min    1.000001e+06  1.000010e+05  0.000000e+00     0.000000e+00   \n",
              "25%    1.461857e+06  1.893290e+05  6.321780e+03     1.872000e+04   \n",
              "50%    1.923110e+06  2.787145e+05  1.125000e+04     7.104600e+04   \n",
              "75%    2.384280e+06  3.675140e+05  2.065842e+04     1.803600e+05   \n",
              "max    2.845382e+06  4.562550e+05  4.180581e+05     6.905160e+06   \n",
              "\n",
              "         AMT_CREDIT  AMT_DOWN_PAYMENT  AMT_GOODS_PRICE  \\\n",
              "count  1.670213e+06      7.743700e+05     1.284699e+06   \n",
              "mean   1.961140e+05      6.697402e+03     2.278473e+05   \n",
              "std    3.185746e+05      2.092150e+04     3.153966e+05   \n",
              "min    0.000000e+00     -9.000000e-01     0.000000e+00   \n",
              "25%    2.416050e+04      0.000000e+00     5.084100e+04   \n",
              "50%    8.054100e+04      1.638000e+03     1.123200e+05   \n",
              "75%    2.164185e+05      7.740000e+03     2.340000e+05   \n",
              "max    6.905160e+06      3.060045e+06     6.905160e+06   \n",
              "\n",
              "       HOUR_APPR_PROCESS_START  NFLAG_LAST_APPL_IN_DAY  RATE_DOWN_PAYMENT  \\\n",
              "count             1.670214e+06            1.670214e+06      774370.000000   \n",
              "mean              1.248418e+01            9.964675e-01           0.079637   \n",
              "std               3.334028e+00            5.932963e-02           0.107823   \n",
              "min               0.000000e+00            0.000000e+00          -0.000015   \n",
              "25%               1.000000e+01            1.000000e+00           0.000000   \n",
              "50%               1.200000e+01            1.000000e+00           0.051605   \n",
              "75%               1.500000e+01            1.000000e+00           0.108909   \n",
              "max               2.300000e+01            1.000000e+00           1.000000   \n",
              "\n",
              "       ...  RATE_INTEREST_PRIVILEGED  DAYS_DECISION  SELLERPLACE_AREA  \\\n",
              "count  ...               5951.000000   1.670214e+06      1.670214e+06   \n",
              "mean   ...                  0.773503  -8.806797e+02      3.139511e+02   \n",
              "std    ...                  0.100879   7.790997e+02      7.127443e+03   \n",
              "min    ...                  0.373150  -2.922000e+03     -1.000000e+00   \n",
              "25%    ...                  0.715645  -1.300000e+03     -1.000000e+00   \n",
              "50%    ...                  0.835095  -5.810000e+02      3.000000e+00   \n",
              "75%    ...                  0.852537  -2.800000e+02      8.200000e+01   \n",
              "max    ...                  1.000000  -1.000000e+00      4.000000e+06   \n",
              "\n",
              "        CNT_PAYMENT  DAYS_FIRST_DRAWING  DAYS_FIRST_DUE  \\\n",
              "count  1.297984e+06       997149.000000   997149.000000   \n",
              "mean   1.605408e+01       342209.855039    13826.269337   \n",
              "std    1.456729e+01        88916.115833    72444.869708   \n",
              "min    0.000000e+00        -2922.000000    -2892.000000   \n",
              "25%    6.000000e+00       365243.000000    -1628.000000   \n",
              "50%    1.200000e+01       365243.000000     -831.000000   \n",
              "75%    2.400000e+01       365243.000000     -411.000000   \n",
              "max    8.400000e+01       365243.000000   365243.000000   \n",
              "\n",
              "       DAYS_LAST_DUE_1ST_VERSION  DAYS_LAST_DUE  DAYS_TERMINATION  \\\n",
              "count              997149.000000  997149.000000     997149.000000   \n",
              "mean                33767.774054   76582.403064      81992.343838   \n",
              "std                106857.034789  149647.415123     153303.516729   \n",
              "min                 -2801.000000   -2889.000000      -2874.000000   \n",
              "25%                 -1242.000000   -1314.000000      -1270.000000   \n",
              "50%                  -361.000000    -537.000000       -499.000000   \n",
              "75%                   129.000000     -74.000000        -44.000000   \n",
              "max                365243.000000  365243.000000     365243.000000   \n",
              "\n",
              "       NFLAG_INSURED_ON_APPROVAL  \n",
              "count              997149.000000  \n",
              "mean                    0.332570  \n",
              "std                     0.471134  \n",
              "min                     0.000000  \n",
              "25%                     0.000000  \n",
              "50%                     0.000000  \n",
              "75%                     1.000000  \n",
              "max                     1.000000  \n",
              "\n",
              "[8 rows x 21 columns]"
            ],
            "text/html": [
              "\n",
              "  <div id=\"df-efb44480-31dd-4e52-b3d9-6cde4bd98160\">\n",
              "    <div class=\"colab-df-container\">\n",
              "      <div>\n",
              "<style scoped>\n",
              "    .dataframe tbody tr th:only-of-type {\n",
              "        vertical-align: middle;\n",
              "    }\n",
              "\n",
              "    .dataframe tbody tr th {\n",
              "        vertical-align: top;\n",
              "    }\n",
              "\n",
              "    .dataframe thead th {\n",
              "        text-align: right;\n",
              "    }\n",
              "</style>\n",
              "<table border=\"1\" class=\"dataframe\">\n",
              "  <thead>\n",
              "    <tr style=\"text-align: right;\">\n",
              "      <th></th>\n",
              "      <th>SK_ID_PREV</th>\n",
              "      <th>SK_ID_CURR</th>\n",
              "      <th>AMT_ANNUITY</th>\n",
              "      <th>AMT_APPLICATION</th>\n",
              "      <th>AMT_CREDIT</th>\n",
              "      <th>AMT_DOWN_PAYMENT</th>\n",
              "      <th>AMT_GOODS_PRICE</th>\n",
              "      <th>HOUR_APPR_PROCESS_START</th>\n",
              "      <th>NFLAG_LAST_APPL_IN_DAY</th>\n",
              "      <th>RATE_DOWN_PAYMENT</th>\n",
              "      <th>...</th>\n",
              "      <th>RATE_INTEREST_PRIVILEGED</th>\n",
              "      <th>DAYS_DECISION</th>\n",
              "      <th>SELLERPLACE_AREA</th>\n",
              "      <th>CNT_PAYMENT</th>\n",
              "      <th>DAYS_FIRST_DRAWING</th>\n",
              "      <th>DAYS_FIRST_DUE</th>\n",
              "      <th>DAYS_LAST_DUE_1ST_VERSION</th>\n",
              "      <th>DAYS_LAST_DUE</th>\n",
              "      <th>DAYS_TERMINATION</th>\n",
              "      <th>NFLAG_INSURED_ON_APPROVAL</th>\n",
              "    </tr>\n",
              "  </thead>\n",
              "  <tbody>\n",
              "    <tr>\n",
              "      <th>count</th>\n",
              "      <td>1.670214e+06</td>\n",
              "      <td>1.670214e+06</td>\n",
              "      <td>1.297979e+06</td>\n",
              "      <td>1.670214e+06</td>\n",
              "      <td>1.670213e+06</td>\n",
              "      <td>7.743700e+05</td>\n",
              "      <td>1.284699e+06</td>\n",
              "      <td>1.670214e+06</td>\n",
              "      <td>1.670214e+06</td>\n",
              "      <td>774370.000000</td>\n",
              "      <td>...</td>\n",
              "      <td>5951.000000</td>\n",
              "      <td>1.670214e+06</td>\n",
              "      <td>1.670214e+06</td>\n",
              "      <td>1.297984e+06</td>\n",
              "      <td>997149.000000</td>\n",
              "      <td>997149.000000</td>\n",
              "      <td>997149.000000</td>\n",
              "      <td>997149.000000</td>\n",
              "      <td>997149.000000</td>\n",
              "      <td>997149.000000</td>\n",
              "    </tr>\n",
              "    <tr>\n",
              "      <th>mean</th>\n",
              "      <td>1.923089e+06</td>\n",
              "      <td>2.783572e+05</td>\n",
              "      <td>1.595512e+04</td>\n",
              "      <td>1.752339e+05</td>\n",
              "      <td>1.961140e+05</td>\n",
              "      <td>6.697402e+03</td>\n",
              "      <td>2.278473e+05</td>\n",
              "      <td>1.248418e+01</td>\n",
              "      <td>9.964675e-01</td>\n",
              "      <td>0.079637</td>\n",
              "      <td>...</td>\n",
              "      <td>0.773503</td>\n",
              "      <td>-8.806797e+02</td>\n",
              "      <td>3.139511e+02</td>\n",
              "      <td>1.605408e+01</td>\n",
              "      <td>342209.855039</td>\n",
              "      <td>13826.269337</td>\n",
              "      <td>33767.774054</td>\n",
              "      <td>76582.403064</td>\n",
              "      <td>81992.343838</td>\n",
              "      <td>0.332570</td>\n",
              "    </tr>\n",
              "    <tr>\n",
              "      <th>std</th>\n",
              "      <td>5.325980e+05</td>\n",
              "      <td>1.028148e+05</td>\n",
              "      <td>1.478214e+04</td>\n",
              "      <td>2.927798e+05</td>\n",
              "      <td>3.185746e+05</td>\n",
              "      <td>2.092150e+04</td>\n",
              "      <td>3.153966e+05</td>\n",
              "      <td>3.334028e+00</td>\n",
              "      <td>5.932963e-02</td>\n",
              "      <td>0.107823</td>\n",
              "      <td>...</td>\n",
              "      <td>0.100879</td>\n",
              "      <td>7.790997e+02</td>\n",
              "      <td>7.127443e+03</td>\n",
              "      <td>1.456729e+01</td>\n",
              "      <td>88916.115833</td>\n",
              "      <td>72444.869708</td>\n",
              "      <td>106857.034789</td>\n",
              "      <td>149647.415123</td>\n",
              "      <td>153303.516729</td>\n",
              "      <td>0.471134</td>\n",
              "    </tr>\n",
              "    <tr>\n",
              "      <th>min</th>\n",
              "      <td>1.000001e+06</td>\n",
              "      <td>1.000010e+05</td>\n",
              "      <td>0.000000e+00</td>\n",
              "      <td>0.000000e+00</td>\n",
              "      <td>0.000000e+00</td>\n",
              "      <td>-9.000000e-01</td>\n",
              "      <td>0.000000e+00</td>\n",
              "      <td>0.000000e+00</td>\n",
              "      <td>0.000000e+00</td>\n",
              "      <td>-0.000015</td>\n",
              "      <td>...</td>\n",
              "      <td>0.373150</td>\n",
              "      <td>-2.922000e+03</td>\n",
              "      <td>-1.000000e+00</td>\n",
              "      <td>0.000000e+00</td>\n",
              "      <td>-2922.000000</td>\n",
              "      <td>-2892.000000</td>\n",
              "      <td>-2801.000000</td>\n",
              "      <td>-2889.000000</td>\n",
              "      <td>-2874.000000</td>\n",
              "      <td>0.000000</td>\n",
              "    </tr>\n",
              "    <tr>\n",
              "      <th>25%</th>\n",
              "      <td>1.461857e+06</td>\n",
              "      <td>1.893290e+05</td>\n",
              "      <td>6.321780e+03</td>\n",
              "      <td>1.872000e+04</td>\n",
              "      <td>2.416050e+04</td>\n",
              "      <td>0.000000e+00</td>\n",
              "      <td>5.084100e+04</td>\n",
              "      <td>1.000000e+01</td>\n",
              "      <td>1.000000e+00</td>\n",
              "      <td>0.000000</td>\n",
              "      <td>...</td>\n",
              "      <td>0.715645</td>\n",
              "      <td>-1.300000e+03</td>\n",
              "      <td>-1.000000e+00</td>\n",
              "      <td>6.000000e+00</td>\n",
              "      <td>365243.000000</td>\n",
              "      <td>-1628.000000</td>\n",
              "      <td>-1242.000000</td>\n",
              "      <td>-1314.000000</td>\n",
              "      <td>-1270.000000</td>\n",
              "      <td>0.000000</td>\n",
              "    </tr>\n",
              "    <tr>\n",
              "      <th>50%</th>\n",
              "      <td>1.923110e+06</td>\n",
              "      <td>2.787145e+05</td>\n",
              "      <td>1.125000e+04</td>\n",
              "      <td>7.104600e+04</td>\n",
              "      <td>8.054100e+04</td>\n",
              "      <td>1.638000e+03</td>\n",
              "      <td>1.123200e+05</td>\n",
              "      <td>1.200000e+01</td>\n",
              "      <td>1.000000e+00</td>\n",
              "      <td>0.051605</td>\n",
              "      <td>...</td>\n",
              "      <td>0.835095</td>\n",
              "      <td>-5.810000e+02</td>\n",
              "      <td>3.000000e+00</td>\n",
              "      <td>1.200000e+01</td>\n",
              "      <td>365243.000000</td>\n",
              "      <td>-831.000000</td>\n",
              "      <td>-361.000000</td>\n",
              "      <td>-537.000000</td>\n",
              "      <td>-499.000000</td>\n",
              "      <td>0.000000</td>\n",
              "    </tr>\n",
              "    <tr>\n",
              "      <th>75%</th>\n",
              "      <td>2.384280e+06</td>\n",
              "      <td>3.675140e+05</td>\n",
              "      <td>2.065842e+04</td>\n",
              "      <td>1.803600e+05</td>\n",
              "      <td>2.164185e+05</td>\n",
              "      <td>7.740000e+03</td>\n",
              "      <td>2.340000e+05</td>\n",
              "      <td>1.500000e+01</td>\n",
              "      <td>1.000000e+00</td>\n",
              "      <td>0.108909</td>\n",
              "      <td>...</td>\n",
              "      <td>0.852537</td>\n",
              "      <td>-2.800000e+02</td>\n",
              "      <td>8.200000e+01</td>\n",
              "      <td>2.400000e+01</td>\n",
              "      <td>365243.000000</td>\n",
              "      <td>-411.000000</td>\n",
              "      <td>129.000000</td>\n",
              "      <td>-74.000000</td>\n",
              "      <td>-44.000000</td>\n",
              "      <td>1.000000</td>\n",
              "    </tr>\n",
              "    <tr>\n",
              "      <th>max</th>\n",
              "      <td>2.845382e+06</td>\n",
              "      <td>4.562550e+05</td>\n",
              "      <td>4.180581e+05</td>\n",
              "      <td>6.905160e+06</td>\n",
              "      <td>6.905160e+06</td>\n",
              "      <td>3.060045e+06</td>\n",
              "      <td>6.905160e+06</td>\n",
              "      <td>2.300000e+01</td>\n",
              "      <td>1.000000e+00</td>\n",
              "      <td>1.000000</td>\n",
              "      <td>...</td>\n",
              "      <td>1.000000</td>\n",
              "      <td>-1.000000e+00</td>\n",
              "      <td>4.000000e+06</td>\n",
              "      <td>8.400000e+01</td>\n",
              "      <td>365243.000000</td>\n",
              "      <td>365243.000000</td>\n",
              "      <td>365243.000000</td>\n",
              "      <td>365243.000000</td>\n",
              "      <td>365243.000000</td>\n",
              "      <td>1.000000</td>\n",
              "    </tr>\n",
              "  </tbody>\n",
              "</table>\n",
              "<p>8 rows × 21 columns</p>\n",
              "</div>\n",
              "      <button class=\"colab-df-convert\" onclick=\"convertToInteractive('df-efb44480-31dd-4e52-b3d9-6cde4bd98160')\"\n",
              "              title=\"Convert this dataframe to an interactive table.\"\n",
              "              style=\"display:none;\">\n",
              "        \n",
              "  <svg xmlns=\"http://www.w3.org/2000/svg\" height=\"24px\"viewBox=\"0 0 24 24\"\n",
              "       width=\"24px\">\n",
              "    <path d=\"M0 0h24v24H0V0z\" fill=\"none\"/>\n",
              "    <path d=\"M18.56 5.44l.94 2.06.94-2.06 2.06-.94-2.06-.94-.94-2.06-.94 2.06-2.06.94zm-11 1L8.5 8.5l.94-2.06 2.06-.94-2.06-.94L8.5 2.5l-.94 2.06-2.06.94zm10 10l.94 2.06.94-2.06 2.06-.94-2.06-.94-.94-2.06-.94 2.06-2.06.94z\"/><path d=\"M17.41 7.96l-1.37-1.37c-.4-.4-.92-.59-1.43-.59-.52 0-1.04.2-1.43.59L10.3 9.45l-7.72 7.72c-.78.78-.78 2.05 0 2.83L4 21.41c.39.39.9.59 1.41.59.51 0 1.02-.2 1.41-.59l7.78-7.78 2.81-2.81c.8-.78.8-2.07 0-2.86zM5.41 20L4 18.59l7.72-7.72 1.47 1.35L5.41 20z\"/>\n",
              "  </svg>\n",
              "      </button>\n",
              "      \n",
              "  <style>\n",
              "    .colab-df-container {\n",
              "      display:flex;\n",
              "      flex-wrap:wrap;\n",
              "      gap: 12px;\n",
              "    }\n",
              "\n",
              "    .colab-df-convert {\n",
              "      background-color: #E8F0FE;\n",
              "      border: none;\n",
              "      border-radius: 50%;\n",
              "      cursor: pointer;\n",
              "      display: none;\n",
              "      fill: #1967D2;\n",
              "      height: 32px;\n",
              "      padding: 0 0 0 0;\n",
              "      width: 32px;\n",
              "    }\n",
              "\n",
              "    .colab-df-convert:hover {\n",
              "      background-color: #E2EBFA;\n",
              "      box-shadow: 0px 1px 2px rgba(60, 64, 67, 0.3), 0px 1px 3px 1px rgba(60, 64, 67, 0.15);\n",
              "      fill: #174EA6;\n",
              "    }\n",
              "\n",
              "    [theme=dark] .colab-df-convert {\n",
              "      background-color: #3B4455;\n",
              "      fill: #D2E3FC;\n",
              "    }\n",
              "\n",
              "    [theme=dark] .colab-df-convert:hover {\n",
              "      background-color: #434B5C;\n",
              "      box-shadow: 0px 1px 3px 1px rgba(0, 0, 0, 0.15);\n",
              "      filter: drop-shadow(0px 1px 2px rgba(0, 0, 0, 0.3));\n",
              "      fill: #FFFFFF;\n",
              "    }\n",
              "  </style>\n",
              "\n",
              "      <script>\n",
              "        const buttonEl =\n",
              "          document.querySelector('#df-efb44480-31dd-4e52-b3d9-6cde4bd98160 button.colab-df-convert');\n",
              "        buttonEl.style.display =\n",
              "          google.colab.kernel.accessAllowed ? 'block' : 'none';\n",
              "\n",
              "        async function convertToInteractive(key) {\n",
              "          const element = document.querySelector('#df-efb44480-31dd-4e52-b3d9-6cde4bd98160');\n",
              "          const dataTable =\n",
              "            await google.colab.kernel.invokeFunction('convertToInteractive',\n",
              "                                                     [key], {});\n",
              "          if (!dataTable) return;\n",
              "\n",
              "          const docLinkHtml = 'Like what you see? Visit the ' +\n",
              "            '<a target=\"_blank\" href=https://colab.research.google.com/notebooks/data_table.ipynb>data table notebook</a>'\n",
              "            + ' to learn more about interactive tables.';\n",
              "          element.innerHTML = '';\n",
              "          dataTable['output_type'] = 'display_data';\n",
              "          await google.colab.output.renderOutput(dataTable, element);\n",
              "          const docLink = document.createElement('div');\n",
              "          docLink.innerHTML = docLinkHtml;\n",
              "          element.appendChild(docLink);\n",
              "        }\n",
              "      </script>\n",
              "    </div>\n",
              "  </div>\n",
              "  "
            ]
          },
          "metadata": {},
          "execution_count": 14
        }
      ]
    },
    {
      "cell_type": "markdown",
      "source": [
        "##2. Cleaning the data Set and dropping the not required columns"
      ],
      "metadata": {
        "id": "XxLLJX02CEsL"
      }
    },
    {
      "cell_type": "code",
      "source": [
        "# Column-wise null count\n",
        "df_app.isnull().sum()\n",
        "\n",
        "#---Observation--\n",
        "#There are multiple columns with null values present"
      ],
      "metadata": {
        "colab": {
          "base_uri": "https://localhost:8080/"
        },
        "id": "F2sfScIlx7xS",
        "outputId": "6402c694-c116-4ad7-d64b-5600bd840425"
      },
      "execution_count": null,
      "outputs": [
        {
          "output_type": "execute_result",
          "data": {
            "text/plain": [
              "SK_ID_CURR                        0\n",
              "TARGET                            0\n",
              "NAME_CONTRACT_TYPE                0\n",
              "CODE_GENDER                       0\n",
              "FLAG_OWN_CAR                      0\n",
              "                              ...  \n",
              "AMT_REQ_CREDIT_BUREAU_DAY     41519\n",
              "AMT_REQ_CREDIT_BUREAU_WEEK    41519\n",
              "AMT_REQ_CREDIT_BUREAU_MON     41519\n",
              "AMT_REQ_CREDIT_BUREAU_QRT     41519\n",
              "AMT_REQ_CREDIT_BUREAU_YEAR    41519\n",
              "Length: 122, dtype: int64"
            ]
          },
          "metadata": {},
          "execution_count": 15
        }
      ]
    },
    {
      "cell_type": "code",
      "source": [
        "# Column-wise null count\n",
        "df_prev.isnull().sum()\n",
        "\n",
        "#---Observation--\n",
        "#There are multiple columns with null values present"
      ],
      "metadata": {
        "colab": {
          "base_uri": "https://localhost:8080/"
        },
        "id": "Iiu-nG7aEX87",
        "outputId": "13b21b0c-f2a8-4472-9584-d6cc8a762787"
      },
      "execution_count": null,
      "outputs": [
        {
          "output_type": "execute_result",
          "data": {
            "text/plain": [
              "SK_ID_PREV                           0\n",
              "SK_ID_CURR                           0\n",
              "NAME_CONTRACT_TYPE                   0\n",
              "AMT_ANNUITY                     372235\n",
              "AMT_APPLICATION                      0\n",
              "AMT_CREDIT                           1\n",
              "AMT_DOWN_PAYMENT                895844\n",
              "AMT_GOODS_PRICE                 385515\n",
              "WEEKDAY_APPR_PROCESS_START           0\n",
              "HOUR_APPR_PROCESS_START              0\n",
              "FLAG_LAST_APPL_PER_CONTRACT          0\n",
              "NFLAG_LAST_APPL_IN_DAY               0\n",
              "RATE_DOWN_PAYMENT               895844\n",
              "RATE_INTEREST_PRIMARY          1664263\n",
              "RATE_INTEREST_PRIVILEGED       1664263\n",
              "NAME_CASH_LOAN_PURPOSE               0\n",
              "NAME_CONTRACT_STATUS                 0\n",
              "DAYS_DECISION                        0\n",
              "NAME_PAYMENT_TYPE                    0\n",
              "CODE_REJECT_REASON                   0\n",
              "NAME_TYPE_SUITE                 820405\n",
              "NAME_CLIENT_TYPE                     0\n",
              "NAME_GOODS_CATEGORY                  0\n",
              "NAME_PORTFOLIO                       0\n",
              "NAME_PRODUCT_TYPE                    0\n",
              "CHANNEL_TYPE                         0\n",
              "SELLERPLACE_AREA                     0\n",
              "NAME_SELLER_INDUSTRY                 0\n",
              "CNT_PAYMENT                     372230\n",
              "NAME_YIELD_GROUP                     0\n",
              "PRODUCT_COMBINATION                346\n",
              "DAYS_FIRST_DRAWING              673065\n",
              "DAYS_FIRST_DUE                  673065\n",
              "DAYS_LAST_DUE_1ST_VERSION       673065\n",
              "DAYS_LAST_DUE                   673065\n",
              "DAYS_TERMINATION                673065\n",
              "NFLAG_INSURED_ON_APPROVAL       673065\n",
              "dtype: int64"
            ]
          },
          "metadata": {},
          "execution_count": 16
        }
      ]
    },
    {
      "cell_type": "markdown",
      "source": [
        "### Dropping the columns that have more than 35% of null values "
      ],
      "metadata": {
        "id": "1y2JO4NDCvxP"
      }
    },
    {
      "cell_type": "code",
      "source": [
        "# Cleaning the missing data\n",
        "# listing the null values columns having more than 35%\n",
        "emptycol=df_app.isnull().sum()\n",
        "emptycol=emptycol[emptycol.values>(0.35*len(emptycol))]\n",
        "len(emptycol)\n",
        "\n",
        "#---Observation--\n",
        "# There are 64 columns have more than 35% null values"
      ],
      "metadata": {
        "colab": {
          "base_uri": "https://localhost:8080/"
        },
        "id": "KQ63DoIYEtcD",
        "outputId": "bd8b9508-a124-4265-e379-068e6f540527"
      },
      "execution_count": null,
      "outputs": [
        {
          "output_type": "execute_result",
          "data": {
            "text/plain": [
              "64"
            ]
          },
          "metadata": {},
          "execution_count": 17
        }
      ]
    },
    {
      "cell_type": "code",
      "source": [
        "# Removing those 64 columns\n",
        "emptycol = list(emptycol[emptycol.values>=0.35].index)\n",
        "df_app.drop(labels=emptycol,axis=1,inplace=True)\n",
        "print(len(emptycol))\n"
      ],
      "metadata": {
        "colab": {
          "base_uri": "https://localhost:8080/"
        },
        "id": "qDR7PMncFOJu",
        "outputId": "377b5d21-fe6e-488e-cc8c-300016709a84"
      },
      "execution_count": null,
      "outputs": [
        {
          "output_type": "stream",
          "name": "stdout",
          "text": [
            "64\n"
          ]
        }
      ]
    },
    {
      "cell_type": "code",
      "source": [
        "#Verifying the shape of the dataset after removing columns\n",
        "df_app.shape\n"
      ],
      "metadata": {
        "colab": {
          "base_uri": "https://localhost:8080/"
        },
        "id": "7FPIuShoFWf7",
        "outputId": "a534658a-3591-4b42-e93d-b96867f49fe6"
      },
      "execution_count": null,
      "outputs": [
        {
          "output_type": "execute_result",
          "data": {
            "text/plain": [
              "(307511, 58)"
            ]
          },
          "metadata": {},
          "execution_count": 19
        }
      ]
    },
    {
      "cell_type": "code",
      "source": [
        "# Cleaning the missing data\n",
        "# listing the null values columns having more than 35%\n",
        "emptycol=df_prev.isnull().sum()\n",
        "emptycol=emptycol[emptycol.values>(0.35*len(emptycol))]\n",
        "len(emptycol)\n",
        "\n",
        "\n",
        "#---Observation--\n",
        "# There are 15 columns have more than 35% null values"
      ],
      "metadata": {
        "colab": {
          "base_uri": "https://localhost:8080/"
        },
        "id": "3qDRvS3bF2Nd",
        "outputId": "4a704fad-c754-4b94-a5b1-f3b530dacf15"
      },
      "execution_count": null,
      "outputs": [
        {
          "output_type": "execute_result",
          "data": {
            "text/plain": [
              "15"
            ]
          },
          "metadata": {},
          "execution_count": 20
        }
      ]
    },
    {
      "cell_type": "code",
      "source": [
        "# Removing those 15 columns\n",
        "emptycol = list(emptycol[emptycol.values>=0.35].index)\n",
        "df_prev.drop(labels=emptycol,axis=1,inplace=True)\n",
        "print(len(emptycol))"
      ],
      "metadata": {
        "colab": {
          "base_uri": "https://localhost:8080/"
        },
        "id": "uJO1euTiGBl_",
        "outputId": "0341f6ce-2cea-4fdd-e04a-715709dbdcc9"
      },
      "execution_count": null,
      "outputs": [
        {
          "output_type": "stream",
          "name": "stdout",
          "text": [
            "15\n"
          ]
        }
      ]
    },
    {
      "cell_type": "code",
      "source": [
        "#Verifying the shape of the dataset after remving columns\n",
        "df_prev.shape"
      ],
      "metadata": {
        "colab": {
          "base_uri": "https://localhost:8080/"
        },
        "id": "b3azVAgSGHq-",
        "outputId": "808b04e8-8a18-49ca-e854-318282534288"
      },
      "execution_count": null,
      "outputs": [
        {
          "output_type": "execute_result",
          "data": {
            "text/plain": [
              "(1670214, 22)"
            ]
          },
          "metadata": {},
          "execution_count": 22
        }
      ]
    },
    {
      "cell_type": "markdown",
      "source": [
        "### Checking the remaining columns in both the datasets"
      ],
      "metadata": {
        "id": "Ya5J4nuYDKOP"
      }
    },
    {
      "cell_type": "code",
      "source": [
        "# Checking the remaining columns in both the datasets\n",
        "\n",
        "df_app.info()"
      ],
      "metadata": {
        "colab": {
          "base_uri": "https://localhost:8080/"
        },
        "id": "MYbGF0nxGSNn",
        "outputId": "e53426e3-b1a9-457f-ffc4-96a8c97d8fa7"
      },
      "execution_count": null,
      "outputs": [
        {
          "output_type": "stream",
          "name": "stdout",
          "text": [
            "<class 'pandas.core.frame.DataFrame'>\n",
            "RangeIndex: 307511 entries, 0 to 307510\n",
            "Data columns (total 58 columns):\n",
            " #   Column                       Non-Null Count   Dtype  \n",
            "---  ------                       --------------   -----  \n",
            " 0   SK_ID_CURR                   307511 non-null  int64  \n",
            " 1   TARGET                       307511 non-null  int64  \n",
            " 2   NAME_CONTRACT_TYPE           307511 non-null  object \n",
            " 3   CODE_GENDER                  307511 non-null  object \n",
            " 4   FLAG_OWN_CAR                 307511 non-null  object \n",
            " 5   FLAG_OWN_REALTY              307511 non-null  object \n",
            " 6   CNT_CHILDREN                 307511 non-null  int64  \n",
            " 7   AMT_INCOME_TOTAL             307511 non-null  float64\n",
            " 8   AMT_CREDIT                   307511 non-null  float64\n",
            " 9   AMT_ANNUITY                  307499 non-null  float64\n",
            " 10  NAME_INCOME_TYPE             307511 non-null  object \n",
            " 11  NAME_EDUCATION_TYPE          307511 non-null  object \n",
            " 12  NAME_FAMILY_STATUS           307511 non-null  object \n",
            " 13  NAME_HOUSING_TYPE            307511 non-null  object \n",
            " 14  REGION_POPULATION_RELATIVE   307511 non-null  float64\n",
            " 15  DAYS_BIRTH                   307511 non-null  int64  \n",
            " 16  DAYS_EMPLOYED                307511 non-null  int64  \n",
            " 17  DAYS_REGISTRATION            307511 non-null  float64\n",
            " 18  DAYS_ID_PUBLISH              307511 non-null  int64  \n",
            " 19  FLAG_MOBIL                   307511 non-null  int64  \n",
            " 20  FLAG_EMP_PHONE               307511 non-null  int64  \n",
            " 21  FLAG_WORK_PHONE              307511 non-null  int64  \n",
            " 22  FLAG_CONT_MOBILE             307511 non-null  int64  \n",
            " 23  FLAG_PHONE                   307511 non-null  int64  \n",
            " 24  FLAG_EMAIL                   307511 non-null  int64  \n",
            " 25  CNT_FAM_MEMBERS              307509 non-null  float64\n",
            " 26  REGION_RATING_CLIENT         307511 non-null  int64  \n",
            " 27  REGION_RATING_CLIENT_W_CITY  307511 non-null  int64  \n",
            " 28  WEEKDAY_APPR_PROCESS_START   307511 non-null  object \n",
            " 29  HOUR_APPR_PROCESS_START      307511 non-null  int64  \n",
            " 30  REG_REGION_NOT_LIVE_REGION   307511 non-null  int64  \n",
            " 31  REG_REGION_NOT_WORK_REGION   307511 non-null  int64  \n",
            " 32  LIVE_REGION_NOT_WORK_REGION  307511 non-null  int64  \n",
            " 33  REG_CITY_NOT_LIVE_CITY       307511 non-null  int64  \n",
            " 34  REG_CITY_NOT_WORK_CITY       307511 non-null  int64  \n",
            " 35  LIVE_CITY_NOT_WORK_CITY      307511 non-null  int64  \n",
            " 36  ORGANIZATION_TYPE            307511 non-null  object \n",
            " 37  DAYS_LAST_PHONE_CHANGE       307510 non-null  float64\n",
            " 38  FLAG_DOCUMENT_2              307511 non-null  int64  \n",
            " 39  FLAG_DOCUMENT_3              307511 non-null  int64  \n",
            " 40  FLAG_DOCUMENT_4              307511 non-null  int64  \n",
            " 41  FLAG_DOCUMENT_5              307511 non-null  int64  \n",
            " 42  FLAG_DOCUMENT_6              307511 non-null  int64  \n",
            " 43  FLAG_DOCUMENT_7              307511 non-null  int64  \n",
            " 44  FLAG_DOCUMENT_8              307511 non-null  int64  \n",
            " 45  FLAG_DOCUMENT_9              307511 non-null  int64  \n",
            " 46  FLAG_DOCUMENT_10             307511 non-null  int64  \n",
            " 47  FLAG_DOCUMENT_11             307511 non-null  int64  \n",
            " 48  FLAG_DOCUMENT_12             307511 non-null  int64  \n",
            " 49  FLAG_DOCUMENT_13             307511 non-null  int64  \n",
            " 50  FLAG_DOCUMENT_14             307511 non-null  int64  \n",
            " 51  FLAG_DOCUMENT_15             307511 non-null  int64  \n",
            " 52  FLAG_DOCUMENT_16             307511 non-null  int64  \n",
            " 53  FLAG_DOCUMENT_17             307511 non-null  int64  \n",
            " 54  FLAG_DOCUMENT_18             307511 non-null  int64  \n",
            " 55  FLAG_DOCUMENT_19             307511 non-null  int64  \n",
            " 56  FLAG_DOCUMENT_20             307511 non-null  int64  \n",
            " 57  FLAG_DOCUMENT_21             307511 non-null  int64  \n",
            "dtypes: float64(7), int64(41), object(10)\n",
            "memory usage: 136.1+ MB\n"
          ]
        }
      ]
    },
    {
      "cell_type": "code",
      "source": [
        "df_prev.info()"
      ],
      "metadata": {
        "colab": {
          "base_uri": "https://localhost:8080/"
        },
        "id": "_hcrjvhjGmxD",
        "outputId": "dfdf5809-79aa-4831-b5e2-d53bf7e18f95"
      },
      "execution_count": null,
      "outputs": [
        {
          "output_type": "stream",
          "name": "stdout",
          "text": [
            "<class 'pandas.core.frame.DataFrame'>\n",
            "RangeIndex: 1670214 entries, 0 to 1670213\n",
            "Data columns (total 22 columns):\n",
            " #   Column                       Non-Null Count    Dtype  \n",
            "---  ------                       --------------    -----  \n",
            " 0   SK_ID_PREV                   1670214 non-null  int64  \n",
            " 1   SK_ID_CURR                   1670214 non-null  int64  \n",
            " 2   NAME_CONTRACT_TYPE           1670214 non-null  object \n",
            " 3   AMT_APPLICATION              1670214 non-null  float64\n",
            " 4   AMT_CREDIT                   1670213 non-null  float64\n",
            " 5   WEEKDAY_APPR_PROCESS_START   1670214 non-null  object \n",
            " 6   HOUR_APPR_PROCESS_START      1670214 non-null  int64  \n",
            " 7   FLAG_LAST_APPL_PER_CONTRACT  1670214 non-null  object \n",
            " 8   NFLAG_LAST_APPL_IN_DAY       1670214 non-null  int64  \n",
            " 9   NAME_CASH_LOAN_PURPOSE       1670214 non-null  object \n",
            " 10  NAME_CONTRACT_STATUS         1670214 non-null  object \n",
            " 11  DAYS_DECISION                1670214 non-null  int64  \n",
            " 12  NAME_PAYMENT_TYPE            1670214 non-null  object \n",
            " 13  CODE_REJECT_REASON           1670214 non-null  object \n",
            " 14  NAME_CLIENT_TYPE             1670214 non-null  object \n",
            " 15  NAME_GOODS_CATEGORY          1670214 non-null  object \n",
            " 16  NAME_PORTFOLIO               1670214 non-null  object \n",
            " 17  NAME_PRODUCT_TYPE            1670214 non-null  object \n",
            " 18  CHANNEL_TYPE                 1670214 non-null  object \n",
            " 19  SELLERPLACE_AREA             1670214 non-null  int64  \n",
            " 20  NAME_SELLER_INDUSTRY         1670214 non-null  object \n",
            " 21  NAME_YIELD_GROUP             1670214 non-null  object \n",
            "dtypes: float64(2), int64(6), object(14)\n",
            "memory usage: 280.3+ MB\n"
          ]
        }
      ]
    },
    {
      "cell_type": "code",
      "source": [
        "\n",
        "df_app.columns"
      ],
      "metadata": {
        "colab": {
          "base_uri": "https://localhost:8080/"
        },
        "id": "jy0ewAB5Gt43",
        "outputId": "4931beff-d6af-48d2-a231-6dee2a089893"
      },
      "execution_count": null,
      "outputs": [
        {
          "output_type": "execute_result",
          "data": {
            "text/plain": [
              "Index(['SK_ID_CURR', 'TARGET', 'NAME_CONTRACT_TYPE', 'CODE_GENDER',\n",
              "       'FLAG_OWN_CAR', 'FLAG_OWN_REALTY', 'CNT_CHILDREN', 'AMT_INCOME_TOTAL',\n",
              "       'AMT_CREDIT', 'AMT_ANNUITY', 'NAME_INCOME_TYPE', 'NAME_EDUCATION_TYPE',\n",
              "       'NAME_FAMILY_STATUS', 'NAME_HOUSING_TYPE', 'REGION_POPULATION_RELATIVE',\n",
              "       'DAYS_BIRTH', 'DAYS_EMPLOYED', 'DAYS_REGISTRATION', 'DAYS_ID_PUBLISH',\n",
              "       'FLAG_MOBIL', 'FLAG_EMP_PHONE', 'FLAG_WORK_PHONE', 'FLAG_CONT_MOBILE',\n",
              "       'FLAG_PHONE', 'FLAG_EMAIL', 'CNT_FAM_MEMBERS', 'REGION_RATING_CLIENT',\n",
              "       'REGION_RATING_CLIENT_W_CITY', 'WEEKDAY_APPR_PROCESS_START',\n",
              "       'HOUR_APPR_PROCESS_START', 'REG_REGION_NOT_LIVE_REGION',\n",
              "       'REG_REGION_NOT_WORK_REGION', 'LIVE_REGION_NOT_WORK_REGION',\n",
              "       'REG_CITY_NOT_LIVE_CITY', 'REG_CITY_NOT_WORK_CITY',\n",
              "       'LIVE_CITY_NOT_WORK_CITY', 'ORGANIZATION_TYPE',\n",
              "       'DAYS_LAST_PHONE_CHANGE', 'FLAG_DOCUMENT_2', 'FLAG_DOCUMENT_3',\n",
              "       'FLAG_DOCUMENT_4', 'FLAG_DOCUMENT_5', 'FLAG_DOCUMENT_6',\n",
              "       'FLAG_DOCUMENT_7', 'FLAG_DOCUMENT_8', 'FLAG_DOCUMENT_9',\n",
              "       'FLAG_DOCUMENT_10', 'FLAG_DOCUMENT_11', 'FLAG_DOCUMENT_12',\n",
              "       'FLAG_DOCUMENT_13', 'FLAG_DOCUMENT_14', 'FLAG_DOCUMENT_15',\n",
              "       'FLAG_DOCUMENT_16', 'FLAG_DOCUMENT_17', 'FLAG_DOCUMENT_18',\n",
              "       'FLAG_DOCUMENT_19', 'FLAG_DOCUMENT_20', 'FLAG_DOCUMENT_21'],\n",
              "      dtype='object')"
            ]
          },
          "metadata": {},
          "execution_count": 25
        }
      ]
    },
    {
      "cell_type": "markdown",
      "source": [
        "### Creating new dataframe with required Columns"
      ],
      "metadata": {
        "id": "j6X2IwjIDx0w"
      }
    },
    {
      "cell_type": "code",
      "source": [
        "# Dropping unnecessary columns from the application dataset\n",
        "df_newapp=df_app.drop(['CNT_CHILDREN','NAME_EDUCATION_TYPE',\n",
        "       'NAME_FAMILY_STATUS', 'REGION_POPULATION_RELATIVE', 'DAYS_EMPLOYED', 'DAYS_REGISTRATION', 'DAYS_ID_PUBLISH',\n",
        "       'FLAG_MOBIL', 'FLAG_EMP_PHONE', 'FLAG_WORK_PHONE', 'FLAG_CONT_MOBILE',\n",
        "       'FLAG_PHONE', 'FLAG_EMAIL', 'CNT_FAM_MEMBERS',\n",
        "        'WEEKDAY_APPR_PROCESS_START',\n",
        "       'HOUR_APPR_PROCESS_START', 'REG_REGION_NOT_LIVE_REGION',\n",
        "       'REG_REGION_NOT_WORK_REGION', 'LIVE_REGION_NOT_WORK_REGION',\n",
        "       'REG_CITY_NOT_LIVE_CITY', 'REG_CITY_NOT_WORK_CITY',\n",
        "       'LIVE_CITY_NOT_WORK_CITY', 'ORGANIZATION_TYPE',\n",
        "       'DAYS_LAST_PHONE_CHANGE', 'FLAG_DOCUMENT_2', 'FLAG_DOCUMENT_3',\n",
        "       'FLAG_DOCUMENT_4', 'FLAG_DOCUMENT_5', 'FLAG_DOCUMENT_6',\n",
        "       'FLAG_DOCUMENT_7', 'FLAG_DOCUMENT_8', 'FLAG_DOCUMENT_9',\n",
        "       'FLAG_DOCUMENT_10', 'FLAG_DOCUMENT_11', 'FLAG_DOCUMENT_12',\n",
        "       'FLAG_DOCUMENT_13', 'FLAG_DOCUMENT_14', 'FLAG_DOCUMENT_15',\n",
        "       'FLAG_DOCUMENT_16', 'FLAG_DOCUMENT_17', 'FLAG_DOCUMENT_18',\n",
        "       'FLAG_DOCUMENT_19', 'FLAG_DOCUMENT_20', 'FLAG_DOCUMENT_21'],axis=1)"
      ],
      "metadata": {
        "id": "0W8i7FZoHxWY"
      },
      "execution_count": null,
      "outputs": []
    },
    {
      "cell_type": "code",
      "source": [
        "#Verify the column names in the new dataframe\n",
        "\n",
        "df_newapp.info()"
      ],
      "metadata": {
        "colab": {
          "base_uri": "https://localhost:8080/"
        },
        "id": "-Mu7Dvc3QR5p",
        "outputId": "e39831f5-351c-4caa-ed7c-b36fba87a5b1"
      },
      "execution_count": null,
      "outputs": [
        {
          "output_type": "stream",
          "name": "stdout",
          "text": [
            "<class 'pandas.core.frame.DataFrame'>\n",
            "RangeIndex: 307511 entries, 0 to 307510\n",
            "Data columns (total 14 columns):\n",
            " #   Column                       Non-Null Count   Dtype  \n",
            "---  ------                       --------------   -----  \n",
            " 0   SK_ID_CURR                   307511 non-null  int64  \n",
            " 1   TARGET                       307511 non-null  int64  \n",
            " 2   NAME_CONTRACT_TYPE           307511 non-null  object \n",
            " 3   CODE_GENDER                  307511 non-null  object \n",
            " 4   FLAG_OWN_CAR                 307511 non-null  object \n",
            " 5   FLAG_OWN_REALTY              307511 non-null  object \n",
            " 6   AMT_INCOME_TOTAL             307511 non-null  float64\n",
            " 7   AMT_CREDIT                   307511 non-null  float64\n",
            " 8   AMT_ANNUITY                  307499 non-null  float64\n",
            " 9   NAME_INCOME_TYPE             307511 non-null  object \n",
            " 10  NAME_HOUSING_TYPE            307511 non-null  object \n",
            " 11  DAYS_BIRTH                   307511 non-null  int64  \n",
            " 12  REGION_RATING_CLIENT         307511 non-null  int64  \n",
            " 13  REGION_RATING_CLIENT_W_CITY  307511 non-null  int64  \n",
            "dtypes: float64(3), int64(5), object(6)\n",
            "memory usage: 32.8+ MB\n"
          ]
        }
      ]
    },
    {
      "cell_type": "code",
      "source": [
        "#Verify the shape of newly created dataset\n",
        "df_newapp.shape\n"
      ],
      "metadata": {
        "colab": {
          "base_uri": "https://localhost:8080/"
        },
        "id": "J2l1HzyuQvT1",
        "outputId": "2f34f3da-760b-4ff5-c616-87e648d7f376"
      },
      "execution_count": null,
      "outputs": [
        {
          "output_type": "execute_result",
          "data": {
            "text/plain": [
              "(307511, 14)"
            ]
          },
          "metadata": {},
          "execution_count": 28
        }
      ]
    },
    {
      "cell_type": "code",
      "source": [
        "#Dropping columns - previous application date\n",
        "df_prev.columns\n"
      ],
      "metadata": {
        "colab": {
          "base_uri": "https://localhost:8080/"
        },
        "id": "TdZz7YF7RCpe",
        "outputId": "04deddc4-41bd-4ed7-d7e2-700be36f77bc"
      },
      "execution_count": null,
      "outputs": [
        {
          "output_type": "execute_result",
          "data": {
            "text/plain": [
              "Index(['SK_ID_PREV', 'SK_ID_CURR', 'NAME_CONTRACT_TYPE', 'AMT_APPLICATION',\n",
              "       'AMT_CREDIT', 'WEEKDAY_APPR_PROCESS_START', 'HOUR_APPR_PROCESS_START',\n",
              "       'FLAG_LAST_APPL_PER_CONTRACT', 'NFLAG_LAST_APPL_IN_DAY',\n",
              "       'NAME_CASH_LOAN_PURPOSE', 'NAME_CONTRACT_STATUS', 'DAYS_DECISION',\n",
              "       'NAME_PAYMENT_TYPE', 'CODE_REJECT_REASON', 'NAME_CLIENT_TYPE',\n",
              "       'NAME_GOODS_CATEGORY', 'NAME_PORTFOLIO', 'NAME_PRODUCT_TYPE',\n",
              "       'CHANNEL_TYPE', 'SELLERPLACE_AREA', 'NAME_SELLER_INDUSTRY',\n",
              "       'NAME_YIELD_GROUP'],\n",
              "      dtype='object')"
            ]
          },
          "metadata": {},
          "execution_count": 29
        }
      ]
    },
    {
      "cell_type": "code",
      "source": [
        "df_newprev=df_prev.drop(['SK_ID_PREV', 'SK_ID_CURR', 'NAME_CONTRACT_TYPE', 'AMT_APPLICATION',\n",
        "      'WEEKDAY_APPR_PROCESS_START', 'HOUR_APPR_PROCESS_START',\n",
        "       'FLAG_LAST_APPL_PER_CONTRACT', 'NFLAG_LAST_APPL_IN_DAY',\n",
        "       'NAME_CASH_LOAN_PURPOSE', 'DAYS_DECISION',\n",
        "       'NAME_PAYMENT_TYPE', 'NAME_PORTFOLIO', 'NAME_PRODUCT_TYPE',\n",
        "       'CHANNEL_TYPE', 'SELLERPLACE_AREA', 'NAME_SELLER_INDUSTRY'],axis=1)\n"
      ],
      "metadata": {
        "id": "x9Sk3ugPTsvI"
      },
      "execution_count": null,
      "outputs": []
    },
    {
      "cell_type": "code",
      "source": [
        "#Verifying the shape of the dataset after removing the uneccesary columns\n",
        "\n",
        "df_newprev.shape"
      ],
      "metadata": {
        "colab": {
          "base_uri": "https://localhost:8080/"
        },
        "id": "nDXQ0m0nTvkc",
        "outputId": "244d0686-cbea-478d-bf58-9fab5d20b583"
      },
      "execution_count": null,
      "outputs": [
        {
          "output_type": "execute_result",
          "data": {
            "text/plain": [
              "(1670214, 6)"
            ]
          },
          "metadata": {},
          "execution_count": 31
        }
      ]
    },
    {
      "cell_type": "code",
      "source": [
        "#Verify the column names\n",
        "df_newprev.info()\n"
      ],
      "metadata": {
        "colab": {
          "base_uri": "https://localhost:8080/"
        },
        "id": "rtcS0BqwUNxw",
        "outputId": "b9b0b8d2-ed8a-43aa-b777-6340765dd9bb"
      },
      "execution_count": null,
      "outputs": [
        {
          "output_type": "stream",
          "name": "stdout",
          "text": [
            "<class 'pandas.core.frame.DataFrame'>\n",
            "RangeIndex: 1670214 entries, 0 to 1670213\n",
            "Data columns (total 6 columns):\n",
            " #   Column                Non-Null Count    Dtype  \n",
            "---  ------                --------------    -----  \n",
            " 0   AMT_CREDIT            1670213 non-null  float64\n",
            " 1   NAME_CONTRACT_STATUS  1670214 non-null  object \n",
            " 2   CODE_REJECT_REASON    1670214 non-null  object \n",
            " 3   NAME_CLIENT_TYPE      1670214 non-null  object \n",
            " 4   NAME_GOODS_CATEGORY   1670214 non-null  object \n",
            " 5   NAME_YIELD_GROUP      1670214 non-null  object \n",
            "dtypes: float64(1), object(5)\n",
            "memory usage: 76.5+ MB\n"
          ]
        }
      ]
    },
    {
      "cell_type": "markdown",
      "source": [
        "###Checking if there are any duplicate values in both the datasets"
      ],
      "metadata": {
        "id": "pgmNRjghEJeb"
      }
    },
    {
      "cell_type": "code",
      "source": [
        "#Checking if there are duplicate values\n",
        "df_newapp.duplicated().sum()\n",
        "\n",
        "# Observation: No Duplicate rows are present."
      ],
      "metadata": {
        "colab": {
          "base_uri": "https://localhost:8080/"
        },
        "id": "BW11d96KUoY1",
        "outputId": "3153069a-a881-4129-fff3-925e28d222b1"
      },
      "execution_count": null,
      "outputs": [
        {
          "output_type": "execute_result",
          "data": {
            "text/plain": [
              "0"
            ]
          },
          "metadata": {},
          "execution_count": 33
        }
      ]
    },
    {
      "cell_type": "code",
      "source": [
        "# Removing duplicate rows\n",
        "df_newprev.duplicated().sum()\n",
        "\n",
        "#---Observation--\n",
        "#duplicate rows are present\n",
        "#removing duplicate rows"
      ],
      "metadata": {
        "colab": {
          "base_uri": "https://localhost:8080/"
        },
        "id": "RKtp8E7RVFRB",
        "outputId": "a5722aeb-2334-4acd-b3b5-1153cf6b24a9"
      },
      "execution_count": null,
      "outputs": [
        {
          "output_type": "execute_result",
          "data": {
            "text/plain": [
              "1110121"
            ]
          },
          "metadata": {},
          "execution_count": 34
        }
      ]
    },
    {
      "cell_type": "code",
      "source": [
        "#removing duplicate rows\n",
        "df_newprev=df_newprev.drop_duplicates(keep='first')"
      ],
      "metadata": {
        "id": "4SHm_R2TVdwN"
      },
      "execution_count": null,
      "outputs": []
    },
    {
      "cell_type": "code",
      "source": [
        "#Verifying shape after deleting the duplicate columns\n",
        "df_newprev.shape\n"
      ],
      "metadata": {
        "colab": {
          "base_uri": "https://localhost:8080/"
        },
        "id": "kfzS8YUwWi4n",
        "outputId": "d1bd6aac-2ee7-491a-8385-6683e3b39187"
      },
      "execution_count": null,
      "outputs": [
        {
          "output_type": "execute_result",
          "data": {
            "text/plain": [
              "(560093, 6)"
            ]
          },
          "metadata": {},
          "execution_count": 36
        }
      ]
    },
    {
      "cell_type": "markdown",
      "source": [
        "### DATA PREPERATION:"
      ],
      "metadata": {
        "id": "PfWiSWnqEost"
      }
    },
    {
      "cell_type": "code",
      "source": [
        "#renaming column names in application dataset\n",
        "df_newapp.columns\n",
        "\n"
      ],
      "metadata": {
        "colab": {
          "base_uri": "https://localhost:8080/"
        },
        "id": "lwMuJguwXPnx",
        "outputId": "3eb05e6b-0320-4337-84ca-604ced8a631c"
      },
      "execution_count": null,
      "outputs": [
        {
          "output_type": "execute_result",
          "data": {
            "text/plain": [
              "Index(['SK_ID_CURR', 'TARGET', 'NAME_CONTRACT_TYPE', 'CODE_GENDER',\n",
              "       'FLAG_OWN_CAR', 'FLAG_OWN_REALTY', 'AMT_INCOME_TOTAL', 'AMT_CREDIT',\n",
              "       'AMT_ANNUITY', 'NAME_INCOME_TYPE', 'NAME_HOUSING_TYPE', 'DAYS_BIRTH',\n",
              "       'REGION_RATING_CLIENT', 'REGION_RATING_CLIENT_W_CITY'],\n",
              "      dtype='object')"
            ]
          },
          "metadata": {},
          "execution_count": 37
        }
      ]
    },
    {
      "cell_type": "code",
      "source": [
        "#As some column names are not appropriate, so renaming column names\n",
        "\n",
        "df_newapp.columns=['ID_CURR', 'TARGET', 'NAME_CONTRACT_TYPE', 'GENDER',\n",
        "       'FLAG_OWN_CAR', 'FLAG_OWN_REALTY', 'AMT_INCOME_TOTAL', 'AMT_CREDIT',\n",
        "       'AMT_ANNUITY', 'NAME_INCOME_TYPE', 'NAME_HOUSING_TYPE', 'DAYS_BIRTH',\n",
        "       'REGION_RATING_CLIENT', 'REGION_RATING_CLIENT_W_CITY']\n"
      ],
      "metadata": {
        "id": "jR8AT50TZzEI"
      },
      "execution_count": null,
      "outputs": []
    },
    {
      "cell_type": "code",
      "source": [
        "#Checking the column names are successfully renamed or not\n",
        "df_newapp.columns\n"
      ],
      "metadata": {
        "colab": {
          "base_uri": "https://localhost:8080/"
        },
        "id": "50xP4vaHZ4EX",
        "outputId": "bcbf021e-0af7-43e5-9559-47ef5f20f0c7"
      },
      "execution_count": null,
      "outputs": [
        {
          "output_type": "execute_result",
          "data": {
            "text/plain": [
              "Index(['ID_CURR', 'TARGET', 'NAME_CONTRACT_TYPE', 'GENDER', 'FLAG_OWN_CAR',\n",
              "       'FLAG_OWN_REALTY', 'AMT_INCOME_TOTAL', 'AMT_CREDIT', 'AMT_ANNUITY',\n",
              "       'NAME_INCOME_TYPE', 'NAME_HOUSING_TYPE', 'DAYS_BIRTH',\n",
              "       'REGION_RATING_CLIENT', 'REGION_RATING_CLIENT_W_CITY'],\n",
              "      dtype='object')"
            ]
          },
          "metadata": {},
          "execution_count": 39
        }
      ]
    },
    {
      "cell_type": "code",
      "source": [
        "df_newprev.columns\n",
        "\n",
        "#all column names are appropriate in previous application dataset"
      ],
      "metadata": {
        "colab": {
          "base_uri": "https://localhost:8080/"
        },
        "id": "2LTX1wmAZ-gS",
        "outputId": "e7da80b6-85c1-4c13-fc2a-a45604f43883"
      },
      "execution_count": null,
      "outputs": [
        {
          "output_type": "execute_result",
          "data": {
            "text/plain": [
              "Index(['AMT_CREDIT', 'NAME_CONTRACT_STATUS', 'CODE_REJECT_REASON',\n",
              "       'NAME_CLIENT_TYPE', 'NAME_GOODS_CATEGORY', 'NAME_YIELD_GROUP'],\n",
              "      dtype='object')"
            ]
          },
          "metadata": {},
          "execution_count": 40
        }
      ]
    },
    {
      "cell_type": "code",
      "source": [
        "#Verify datatype and change the dtypes if necessary\n",
        "\n",
        "df_newapp.info()\n"
      ],
      "metadata": {
        "colab": {
          "base_uri": "https://localhost:8080/"
        },
        "id": "s1ZEnuhpaIl-",
        "outputId": "9b502510-e3fd-499b-e584-f0f7796c1e1c"
      },
      "execution_count": null,
      "outputs": [
        {
          "output_type": "stream",
          "name": "stdout",
          "text": [
            "<class 'pandas.core.frame.DataFrame'>\n",
            "RangeIndex: 307511 entries, 0 to 307510\n",
            "Data columns (total 14 columns):\n",
            " #   Column                       Non-Null Count   Dtype  \n",
            "---  ------                       --------------   -----  \n",
            " 0   ID_CURR                      307511 non-null  int64  \n",
            " 1   TARGET                       307511 non-null  int64  \n",
            " 2   NAME_CONTRACT_TYPE           307511 non-null  object \n",
            " 3   GENDER                       307511 non-null  object \n",
            " 4   FLAG_OWN_CAR                 307511 non-null  object \n",
            " 5   FLAG_OWN_REALTY              307511 non-null  object \n",
            " 6   AMT_INCOME_TOTAL             307511 non-null  float64\n",
            " 7   AMT_CREDIT                   307511 non-null  float64\n",
            " 8   AMT_ANNUITY                  307499 non-null  float64\n",
            " 9   NAME_INCOME_TYPE             307511 non-null  object \n",
            " 10  NAME_HOUSING_TYPE            307511 non-null  object \n",
            " 11  DAYS_BIRTH                   307511 non-null  int64  \n",
            " 12  REGION_RATING_CLIENT         307511 non-null  int64  \n",
            " 13  REGION_RATING_CLIENT_W_CITY  307511 non-null  int64  \n",
            "dtypes: float64(3), int64(5), object(6)\n",
            "memory usage: 32.8+ MB\n"
          ]
        }
      ]
    },
    {
      "cell_type": "code",
      "source": [
        "#Verify datatype and change the dtypes if necessary\n",
        "df_newprev.info()\n"
      ],
      "metadata": {
        "colab": {
          "base_uri": "https://localhost:8080/"
        },
        "id": "AlCHAq8TaKOg",
        "outputId": "94a5f955-9acc-4d7a-e21a-6c0269302599"
      },
      "execution_count": null,
      "outputs": [
        {
          "output_type": "stream",
          "name": "stdout",
          "text": [
            "<class 'pandas.core.frame.DataFrame'>\n",
            "Int64Index: 560093 entries, 0 to 1670211\n",
            "Data columns (total 6 columns):\n",
            " #   Column                Non-Null Count   Dtype  \n",
            "---  ------                --------------   -----  \n",
            " 0   AMT_CREDIT            560092 non-null  float64\n",
            " 1   NAME_CONTRACT_STATUS  560093 non-null  object \n",
            " 2   CODE_REJECT_REASON    560093 non-null  object \n",
            " 3   NAME_CLIENT_TYPE      560093 non-null  object \n",
            " 4   NAME_GOODS_CATEGORY   560093 non-null  object \n",
            " 5   NAME_YIELD_GROUP      560093 non-null  object \n",
            "dtypes: float64(1), object(5)\n",
            "memory usage: 29.9+ MB\n"
          ]
        }
      ]
    },
    {
      "cell_type": "code",
      "source": [
        "# finding null values\n",
        "df_newapp.isnull().sum()\n",
        "\n",
        "#--Observations--\n",
        "# 12 null values are present in the column AMT_ANNUITY"
      ],
      "metadata": {
        "colab": {
          "base_uri": "https://localhost:8080/"
        },
        "id": "RYJVvQsGtUHP",
        "outputId": "53b6e2d8-b157-4555-b18b-f90043129c01"
      },
      "execution_count": null,
      "outputs": [
        {
          "output_type": "execute_result",
          "data": {
            "text/plain": [
              "ID_CURR                         0\n",
              "TARGET                          0\n",
              "NAME_CONTRACT_TYPE              0\n",
              "GENDER                          0\n",
              "FLAG_OWN_CAR                    0\n",
              "FLAG_OWN_REALTY                 0\n",
              "AMT_INCOME_TOTAL                0\n",
              "AMT_CREDIT                      0\n",
              "AMT_ANNUITY                    12\n",
              "NAME_INCOME_TYPE                0\n",
              "NAME_HOUSING_TYPE               0\n",
              "DAYS_BIRTH                      0\n",
              "REGION_RATING_CLIENT            0\n",
              "REGION_RATING_CLIENT_W_CITY     0\n",
              "dtype: int64"
            ]
          },
          "metadata": {},
          "execution_count": 43
        }
      ]
    },
    {
      "cell_type": "code",
      "source": [
        "# Replacing the null values with \"NAN\"\n",
        "df_newapp=df_newapp.replace(np.nan, 'NAN')\n"
      ],
      "metadata": {
        "id": "FvcPrSDGtnlI"
      },
      "execution_count": null,
      "outputs": []
    },
    {
      "cell_type": "markdown",
      "source": [
        "### UNDERSTANDING THE VARIABLES:"
      ],
      "metadata": {
        "id": "NVFbdkb4FX73"
      }
    },
    {
      "cell_type": "code",
      "source": [
        "\n",
        "#To check the unique variables for NAME_CONTRACT_TYPE\n",
        "print(len(df_newapp.NAME_CONTRACT_TYPE.unique()))\n",
        "print(df_newapp.NAME_CONTRACT_TYPE.unique())\n",
        "\n",
        "\n",
        "#--Observations--\n",
        "# NAME_CONTRACT_TYPE has two unique values-'Cash loans' , 'Revolving loans'"
      ],
      "metadata": {
        "colab": {
          "base_uri": "https://localhost:8080/"
        },
        "id": "eRH0E6_OaOW4",
        "outputId": "e96dc548-45f5-4100-c3ca-d2b24111bdb8"
      },
      "execution_count": null,
      "outputs": [
        {
          "output_type": "stream",
          "name": "stdout",
          "text": [
            "2\n",
            "['Cash loans' 'Revolving loans']\n"
          ]
        }
      ]
    },
    {
      "cell_type": "code",
      "source": [
        "#To check the unique variables for NAME_INCOME_TYPE\n",
        "print(len(df_newapp.NAME_INCOME_TYPE.unique()))\n",
        "print(df_newapp.NAME_INCOME_TYPE.unique())\n",
        "\n",
        "#--Observations--\n",
        "# NAME_INCOME_TYPE has 8 unique values-'Working','State servant','Commercial associate','Pensioner','Unemployed','Student','Businessman','Maternity leave'"
      ],
      "metadata": {
        "colab": {
          "base_uri": "https://localhost:8080/"
        },
        "id": "2D9UjMhYbSyb",
        "outputId": "2230460d-77f5-41db-8c9d-eaaaf46fc4d1"
      },
      "execution_count": null,
      "outputs": [
        {
          "output_type": "stream",
          "name": "stdout",
          "text": [
            "8\n",
            "['Working' 'State servant' 'Commercial associate' 'Pensioner' 'Unemployed'\n",
            " 'Student' 'Businessman' 'Maternity leave']\n"
          ]
        }
      ]
    },
    {
      "cell_type": "code",
      "source": [
        "#To check the unique variables for GENDER\n",
        "print(len(df_newapp.GENDER.unique()))\n",
        "print(df_newapp.GENDER.unique())\n",
        "\n",
        "\n",
        "#--Observations--\n",
        "# GENDER has 3 unique values-'M','F','XNA'"
      ],
      "metadata": {
        "colab": {
          "base_uri": "https://localhost:8080/"
        },
        "id": "WPXRzZYIbVTA",
        "outputId": "08385b51-8440-432e-a104-ee8bf86cf019"
      },
      "execution_count": null,
      "outputs": [
        {
          "output_type": "stream",
          "name": "stdout",
          "text": [
            "3\n",
            "['M' 'F' 'XNA']\n"
          ]
        }
      ]
    },
    {
      "cell_type": "code",
      "source": [
        "#To check the unique variables for FLAG_OWN_CAR                       \n",
        "print(len(df_newapp.FLAG_OWN_CAR.unique()))\n",
        "print(df_newapp.FLAG_OWN_CAR.unique())\n",
        "\n",
        "#--Observations--\n",
        "# FLAG_OWN_CAR has 2 unique values-'N','Y'"
      ],
      "metadata": {
        "colab": {
          "base_uri": "https://localhost:8080/"
        },
        "id": "CY8SjAqAbeO0",
        "outputId": "1a0abf80-5e8f-4684-c5ea-0b414d9387c1"
      },
      "execution_count": null,
      "outputs": [
        {
          "output_type": "stream",
          "name": "stdout",
          "text": [
            "2\n",
            "['N' 'Y']\n"
          ]
        }
      ]
    },
    {
      "cell_type": "code",
      "source": [
        "#To check the unique variables for NAME_HOUSING_TYPE                       \n",
        "print(len(df_newapp.NAME_HOUSING_TYPE.unique()))\n",
        "print(df_newapp.NAME_HOUSING_TYPE.unique())\n",
        "\n",
        "#--Observations--\n",
        "# NAME_HOUSING_TYPE has 6 unique values-'House / apartment','Rented apartment','With parents','Municipal apartment' ,'Office apartment','Co-op apartment'\n"
      ],
      "metadata": {
        "colab": {
          "base_uri": "https://localhost:8080/"
        },
        "id": "MNB8I2cUbxGk",
        "outputId": "6adac53c-2406-4f12-d8bc-3cda72903e92"
      },
      "execution_count": null,
      "outputs": [
        {
          "output_type": "stream",
          "name": "stdout",
          "text": [
            "6\n",
            "['House / apartment' 'Rented apartment' 'With parents'\n",
            " 'Municipal apartment' 'Office apartment' 'Co-op apartment']\n"
          ]
        }
      ]
    },
    {
      "cell_type": "code",
      "source": [
        "#TO check the correlation between numerical data\n",
        "df_newapp.corr()\n",
        "\n",
        "#--Observations--\n",
        "# Verifying the correlation between variables"
      ],
      "metadata": {
        "colab": {
          "base_uri": "https://localhost:8080/",
          "height": 269
        },
        "id": "PjodEeGQcDzv",
        "outputId": "a95f3bc2-e459-4fa1-bea3-e2a75c0bdb2a"
      },
      "execution_count": null,
      "outputs": [
        {
          "output_type": "execute_result",
          "data": {
            "text/plain": [
              "                              ID_CURR    TARGET  AMT_INCOME_TOTAL  AMT_CREDIT  \\\n",
              "ID_CURR                      1.000000 -0.002108         -0.001820   -0.000343   \n",
              "TARGET                      -0.002108  1.000000         -0.003982   -0.030369   \n",
              "AMT_INCOME_TOTAL            -0.001820 -0.003982          1.000000    0.156870   \n",
              "AMT_CREDIT                  -0.000343 -0.030369          0.156870    1.000000   \n",
              "DAYS_BIRTH                  -0.001500  0.078239          0.027261   -0.055436   \n",
              "REGION_RATING_CLIENT        -0.001075  0.058899         -0.085465   -0.101776   \n",
              "REGION_RATING_CLIENT_W_CITY -0.001138  0.060893         -0.091735   -0.110915   \n",
              "\n",
              "                             DAYS_BIRTH  REGION_RATING_CLIENT  \\\n",
              "ID_CURR                       -0.001500             -0.001075   \n",
              "TARGET                         0.078239              0.058899   \n",
              "AMT_INCOME_TOTAL               0.027261             -0.085465   \n",
              "AMT_CREDIT                    -0.055436             -0.101776   \n",
              "DAYS_BIRTH                     1.000000              0.009361   \n",
              "REGION_RATING_CLIENT           0.009361              1.000000   \n",
              "REGION_RATING_CLIENT_W_CITY    0.008073              0.950842   \n",
              "\n",
              "                             REGION_RATING_CLIENT_W_CITY  \n",
              "ID_CURR                                        -0.001138  \n",
              "TARGET                                          0.060893  \n",
              "AMT_INCOME_TOTAL                               -0.091735  \n",
              "AMT_CREDIT                                     -0.110915  \n",
              "DAYS_BIRTH                                      0.008073  \n",
              "REGION_RATING_CLIENT                            0.950842  \n",
              "REGION_RATING_CLIENT_W_CITY                     1.000000  "
            ],
            "text/html": [
              "\n",
              "  <div id=\"df-d68858c5-9e56-46e8-bbe1-322e1090b989\">\n",
              "    <div class=\"colab-df-container\">\n",
              "      <div>\n",
              "<style scoped>\n",
              "    .dataframe tbody tr th:only-of-type {\n",
              "        vertical-align: middle;\n",
              "    }\n",
              "\n",
              "    .dataframe tbody tr th {\n",
              "        vertical-align: top;\n",
              "    }\n",
              "\n",
              "    .dataframe thead th {\n",
              "        text-align: right;\n",
              "    }\n",
              "</style>\n",
              "<table border=\"1\" class=\"dataframe\">\n",
              "  <thead>\n",
              "    <tr style=\"text-align: right;\">\n",
              "      <th></th>\n",
              "      <th>ID_CURR</th>\n",
              "      <th>TARGET</th>\n",
              "      <th>AMT_INCOME_TOTAL</th>\n",
              "      <th>AMT_CREDIT</th>\n",
              "      <th>DAYS_BIRTH</th>\n",
              "      <th>REGION_RATING_CLIENT</th>\n",
              "      <th>REGION_RATING_CLIENT_W_CITY</th>\n",
              "    </tr>\n",
              "  </thead>\n",
              "  <tbody>\n",
              "    <tr>\n",
              "      <th>ID_CURR</th>\n",
              "      <td>1.000000</td>\n",
              "      <td>-0.002108</td>\n",
              "      <td>-0.001820</td>\n",
              "      <td>-0.000343</td>\n",
              "      <td>-0.001500</td>\n",
              "      <td>-0.001075</td>\n",
              "      <td>-0.001138</td>\n",
              "    </tr>\n",
              "    <tr>\n",
              "      <th>TARGET</th>\n",
              "      <td>-0.002108</td>\n",
              "      <td>1.000000</td>\n",
              "      <td>-0.003982</td>\n",
              "      <td>-0.030369</td>\n",
              "      <td>0.078239</td>\n",
              "      <td>0.058899</td>\n",
              "      <td>0.060893</td>\n",
              "    </tr>\n",
              "    <tr>\n",
              "      <th>AMT_INCOME_TOTAL</th>\n",
              "      <td>-0.001820</td>\n",
              "      <td>-0.003982</td>\n",
              "      <td>1.000000</td>\n",
              "      <td>0.156870</td>\n",
              "      <td>0.027261</td>\n",
              "      <td>-0.085465</td>\n",
              "      <td>-0.091735</td>\n",
              "    </tr>\n",
              "    <tr>\n",
              "      <th>AMT_CREDIT</th>\n",
              "      <td>-0.000343</td>\n",
              "      <td>-0.030369</td>\n",
              "      <td>0.156870</td>\n",
              "      <td>1.000000</td>\n",
              "      <td>-0.055436</td>\n",
              "      <td>-0.101776</td>\n",
              "      <td>-0.110915</td>\n",
              "    </tr>\n",
              "    <tr>\n",
              "      <th>DAYS_BIRTH</th>\n",
              "      <td>-0.001500</td>\n",
              "      <td>0.078239</td>\n",
              "      <td>0.027261</td>\n",
              "      <td>-0.055436</td>\n",
              "      <td>1.000000</td>\n",
              "      <td>0.009361</td>\n",
              "      <td>0.008073</td>\n",
              "    </tr>\n",
              "    <tr>\n",
              "      <th>REGION_RATING_CLIENT</th>\n",
              "      <td>-0.001075</td>\n",
              "      <td>0.058899</td>\n",
              "      <td>-0.085465</td>\n",
              "      <td>-0.101776</td>\n",
              "      <td>0.009361</td>\n",
              "      <td>1.000000</td>\n",
              "      <td>0.950842</td>\n",
              "    </tr>\n",
              "    <tr>\n",
              "      <th>REGION_RATING_CLIENT_W_CITY</th>\n",
              "      <td>-0.001138</td>\n",
              "      <td>0.060893</td>\n",
              "      <td>-0.091735</td>\n",
              "      <td>-0.110915</td>\n",
              "      <td>0.008073</td>\n",
              "      <td>0.950842</td>\n",
              "      <td>1.000000</td>\n",
              "    </tr>\n",
              "  </tbody>\n",
              "</table>\n",
              "</div>\n",
              "      <button class=\"colab-df-convert\" onclick=\"convertToInteractive('df-d68858c5-9e56-46e8-bbe1-322e1090b989')\"\n",
              "              title=\"Convert this dataframe to an interactive table.\"\n",
              "              style=\"display:none;\">\n",
              "        \n",
              "  <svg xmlns=\"http://www.w3.org/2000/svg\" height=\"24px\"viewBox=\"0 0 24 24\"\n",
              "       width=\"24px\">\n",
              "    <path d=\"M0 0h24v24H0V0z\" fill=\"none\"/>\n",
              "    <path d=\"M18.56 5.44l.94 2.06.94-2.06 2.06-.94-2.06-.94-.94-2.06-.94 2.06-2.06.94zm-11 1L8.5 8.5l.94-2.06 2.06-.94-2.06-.94L8.5 2.5l-.94 2.06-2.06.94zm10 10l.94 2.06.94-2.06 2.06-.94-2.06-.94-.94-2.06-.94 2.06-2.06.94z\"/><path d=\"M17.41 7.96l-1.37-1.37c-.4-.4-.92-.59-1.43-.59-.52 0-1.04.2-1.43.59L10.3 9.45l-7.72 7.72c-.78.78-.78 2.05 0 2.83L4 21.41c.39.39.9.59 1.41.59.51 0 1.02-.2 1.41-.59l7.78-7.78 2.81-2.81c.8-.78.8-2.07 0-2.86zM5.41 20L4 18.59l7.72-7.72 1.47 1.35L5.41 20z\"/>\n",
              "  </svg>\n",
              "      </button>\n",
              "      \n",
              "  <style>\n",
              "    .colab-df-container {\n",
              "      display:flex;\n",
              "      flex-wrap:wrap;\n",
              "      gap: 12px;\n",
              "    }\n",
              "\n",
              "    .colab-df-convert {\n",
              "      background-color: #E8F0FE;\n",
              "      border: none;\n",
              "      border-radius: 50%;\n",
              "      cursor: pointer;\n",
              "      display: none;\n",
              "      fill: #1967D2;\n",
              "      height: 32px;\n",
              "      padding: 0 0 0 0;\n",
              "      width: 32px;\n",
              "    }\n",
              "\n",
              "    .colab-df-convert:hover {\n",
              "      background-color: #E2EBFA;\n",
              "      box-shadow: 0px 1px 2px rgba(60, 64, 67, 0.3), 0px 1px 3px 1px rgba(60, 64, 67, 0.15);\n",
              "      fill: #174EA6;\n",
              "    }\n",
              "\n",
              "    [theme=dark] .colab-df-convert {\n",
              "      background-color: #3B4455;\n",
              "      fill: #D2E3FC;\n",
              "    }\n",
              "\n",
              "    [theme=dark] .colab-df-convert:hover {\n",
              "      background-color: #434B5C;\n",
              "      box-shadow: 0px 1px 3px 1px rgba(0, 0, 0, 0.15);\n",
              "      filter: drop-shadow(0px 1px 2px rgba(0, 0, 0, 0.3));\n",
              "      fill: #FFFFFF;\n",
              "    }\n",
              "  </style>\n",
              "\n",
              "      <script>\n",
              "        const buttonEl =\n",
              "          document.querySelector('#df-d68858c5-9e56-46e8-bbe1-322e1090b989 button.colab-df-convert');\n",
              "        buttonEl.style.display =\n",
              "          google.colab.kernel.accessAllowed ? 'block' : 'none';\n",
              "\n",
              "        async function convertToInteractive(key) {\n",
              "          const element = document.querySelector('#df-d68858c5-9e56-46e8-bbe1-322e1090b989');\n",
              "          const dataTable =\n",
              "            await google.colab.kernel.invokeFunction('convertToInteractive',\n",
              "                                                     [key], {});\n",
              "          if (!dataTable) return;\n",
              "\n",
              "          const docLinkHtml = 'Like what you see? Visit the ' +\n",
              "            '<a target=\"_blank\" href=https://colab.research.google.com/notebooks/data_table.ipynb>data table notebook</a>'\n",
              "            + ' to learn more about interactive tables.';\n",
              "          element.innerHTML = '';\n",
              "          dataTable['output_type'] = 'display_data';\n",
              "          await google.colab.output.renderOutput(dataTable, element);\n",
              "          const docLink = document.createElement('div');\n",
              "          docLink.innerHTML = docLinkHtml;\n",
              "          element.appendChild(docLink);\n",
              "        }\n",
              "      </script>\n",
              "    </div>\n",
              "  </div>\n",
              "  "
            ]
          },
          "metadata": {},
          "execution_count": 50
        }
      ]
    },
    {
      "cell_type": "code",
      "source": [
        "df_newapp.describe(include='all')"
      ],
      "metadata": {
        "colab": {
          "base_uri": "https://localhost:8080/",
          "height": 458
        },
        "id": "ZbXtSf6ncKF9",
        "outputId": "e5bf8513-550f-4330-fb13-f626a4078e09"
      },
      "execution_count": null,
      "outputs": [
        {
          "output_type": "execute_result",
          "data": {
            "text/plain": [
              "              ID_CURR         TARGET NAME_CONTRACT_TYPE  GENDER FLAG_OWN_CAR  \\\n",
              "count   307511.000000  307511.000000             307511  307511       307511   \n",
              "unique            NaN            NaN                  2       3            2   \n",
              "top               NaN            NaN         Cash loans       F            N   \n",
              "freq              NaN            NaN             278232  202448       202924   \n",
              "mean    278180.518577       0.080729                NaN     NaN          NaN   \n",
              "std     102790.175348       0.272419                NaN     NaN          NaN   \n",
              "min     100002.000000       0.000000                NaN     NaN          NaN   \n",
              "25%     189145.500000       0.000000                NaN     NaN          NaN   \n",
              "50%     278202.000000       0.000000                NaN     NaN          NaN   \n",
              "75%     367142.500000       0.000000                NaN     NaN          NaN   \n",
              "max     456255.000000       1.000000                NaN     NaN          NaN   \n",
              "\n",
              "       FLAG_OWN_REALTY  AMT_INCOME_TOTAL    AMT_CREDIT  AMT_ANNUITY  \\\n",
              "count           307511      3.075110e+05  3.075110e+05     307511.0   \n",
              "unique               2               NaN           NaN      13673.0   \n",
              "top                  Y               NaN           NaN       9000.0   \n",
              "freq            213312               NaN           NaN       6385.0   \n",
              "mean               NaN      1.687979e+05  5.990260e+05          NaN   \n",
              "std                NaN      2.371231e+05  4.024908e+05          NaN   \n",
              "min                NaN      2.565000e+04  4.500000e+04          NaN   \n",
              "25%                NaN      1.125000e+05  2.700000e+05          NaN   \n",
              "50%                NaN      1.471500e+05  5.135310e+05          NaN   \n",
              "75%                NaN      2.025000e+05  8.086500e+05          NaN   \n",
              "max                NaN      1.170000e+08  4.050000e+06          NaN   \n",
              "\n",
              "       NAME_INCOME_TYPE  NAME_HOUSING_TYPE     DAYS_BIRTH  \\\n",
              "count            307511             307511  307511.000000   \n",
              "unique                8                  6            NaN   \n",
              "top             Working  House / apartment            NaN   \n",
              "freq             158774             272868            NaN   \n",
              "mean                NaN                NaN  -16036.995067   \n",
              "std                 NaN                NaN    4363.988632   \n",
              "min                 NaN                NaN  -25229.000000   \n",
              "25%                 NaN                NaN  -19682.000000   \n",
              "50%                 NaN                NaN  -15750.000000   \n",
              "75%                 NaN                NaN  -12413.000000   \n",
              "max                 NaN                NaN   -7489.000000   \n",
              "\n",
              "        REGION_RATING_CLIENT  REGION_RATING_CLIENT_W_CITY  \n",
              "count          307511.000000                307511.000000  \n",
              "unique                   NaN                          NaN  \n",
              "top                      NaN                          NaN  \n",
              "freq                     NaN                          NaN  \n",
              "mean                2.052463                     2.031521  \n",
              "std                 0.509034                     0.502737  \n",
              "min                 1.000000                     1.000000  \n",
              "25%                 2.000000                     2.000000  \n",
              "50%                 2.000000                     2.000000  \n",
              "75%                 2.000000                     2.000000  \n",
              "max                 3.000000                     3.000000  "
            ],
            "text/html": [
              "\n",
              "  <div id=\"df-b1ff697d-db12-40db-88e5-cb8188f33fd2\">\n",
              "    <div class=\"colab-df-container\">\n",
              "      <div>\n",
              "<style scoped>\n",
              "    .dataframe tbody tr th:only-of-type {\n",
              "        vertical-align: middle;\n",
              "    }\n",
              "\n",
              "    .dataframe tbody tr th {\n",
              "        vertical-align: top;\n",
              "    }\n",
              "\n",
              "    .dataframe thead th {\n",
              "        text-align: right;\n",
              "    }\n",
              "</style>\n",
              "<table border=\"1\" class=\"dataframe\">\n",
              "  <thead>\n",
              "    <tr style=\"text-align: right;\">\n",
              "      <th></th>\n",
              "      <th>ID_CURR</th>\n",
              "      <th>TARGET</th>\n",
              "      <th>NAME_CONTRACT_TYPE</th>\n",
              "      <th>GENDER</th>\n",
              "      <th>FLAG_OWN_CAR</th>\n",
              "      <th>FLAG_OWN_REALTY</th>\n",
              "      <th>AMT_INCOME_TOTAL</th>\n",
              "      <th>AMT_CREDIT</th>\n",
              "      <th>AMT_ANNUITY</th>\n",
              "      <th>NAME_INCOME_TYPE</th>\n",
              "      <th>NAME_HOUSING_TYPE</th>\n",
              "      <th>DAYS_BIRTH</th>\n",
              "      <th>REGION_RATING_CLIENT</th>\n",
              "      <th>REGION_RATING_CLIENT_W_CITY</th>\n",
              "    </tr>\n",
              "  </thead>\n",
              "  <tbody>\n",
              "    <tr>\n",
              "      <th>count</th>\n",
              "      <td>307511.000000</td>\n",
              "      <td>307511.000000</td>\n",
              "      <td>307511</td>\n",
              "      <td>307511</td>\n",
              "      <td>307511</td>\n",
              "      <td>307511</td>\n",
              "      <td>3.075110e+05</td>\n",
              "      <td>3.075110e+05</td>\n",
              "      <td>307511.0</td>\n",
              "      <td>307511</td>\n",
              "      <td>307511</td>\n",
              "      <td>307511.000000</td>\n",
              "      <td>307511.000000</td>\n",
              "      <td>307511.000000</td>\n",
              "    </tr>\n",
              "    <tr>\n",
              "      <th>unique</th>\n",
              "      <td>NaN</td>\n",
              "      <td>NaN</td>\n",
              "      <td>2</td>\n",
              "      <td>3</td>\n",
              "      <td>2</td>\n",
              "      <td>2</td>\n",
              "      <td>NaN</td>\n",
              "      <td>NaN</td>\n",
              "      <td>13673.0</td>\n",
              "      <td>8</td>\n",
              "      <td>6</td>\n",
              "      <td>NaN</td>\n",
              "      <td>NaN</td>\n",
              "      <td>NaN</td>\n",
              "    </tr>\n",
              "    <tr>\n",
              "      <th>top</th>\n",
              "      <td>NaN</td>\n",
              "      <td>NaN</td>\n",
              "      <td>Cash loans</td>\n",
              "      <td>F</td>\n",
              "      <td>N</td>\n",
              "      <td>Y</td>\n",
              "      <td>NaN</td>\n",
              "      <td>NaN</td>\n",
              "      <td>9000.0</td>\n",
              "      <td>Working</td>\n",
              "      <td>House / apartment</td>\n",
              "      <td>NaN</td>\n",
              "      <td>NaN</td>\n",
              "      <td>NaN</td>\n",
              "    </tr>\n",
              "    <tr>\n",
              "      <th>freq</th>\n",
              "      <td>NaN</td>\n",
              "      <td>NaN</td>\n",
              "      <td>278232</td>\n",
              "      <td>202448</td>\n",
              "      <td>202924</td>\n",
              "      <td>213312</td>\n",
              "      <td>NaN</td>\n",
              "      <td>NaN</td>\n",
              "      <td>6385.0</td>\n",
              "      <td>158774</td>\n",
              "      <td>272868</td>\n",
              "      <td>NaN</td>\n",
              "      <td>NaN</td>\n",
              "      <td>NaN</td>\n",
              "    </tr>\n",
              "    <tr>\n",
              "      <th>mean</th>\n",
              "      <td>278180.518577</td>\n",
              "      <td>0.080729</td>\n",
              "      <td>NaN</td>\n",
              "      <td>NaN</td>\n",
              "      <td>NaN</td>\n",
              "      <td>NaN</td>\n",
              "      <td>1.687979e+05</td>\n",
              "      <td>5.990260e+05</td>\n",
              "      <td>NaN</td>\n",
              "      <td>NaN</td>\n",
              "      <td>NaN</td>\n",
              "      <td>-16036.995067</td>\n",
              "      <td>2.052463</td>\n",
              "      <td>2.031521</td>\n",
              "    </tr>\n",
              "    <tr>\n",
              "      <th>std</th>\n",
              "      <td>102790.175348</td>\n",
              "      <td>0.272419</td>\n",
              "      <td>NaN</td>\n",
              "      <td>NaN</td>\n",
              "      <td>NaN</td>\n",
              "      <td>NaN</td>\n",
              "      <td>2.371231e+05</td>\n",
              "      <td>4.024908e+05</td>\n",
              "      <td>NaN</td>\n",
              "      <td>NaN</td>\n",
              "      <td>NaN</td>\n",
              "      <td>4363.988632</td>\n",
              "      <td>0.509034</td>\n",
              "      <td>0.502737</td>\n",
              "    </tr>\n",
              "    <tr>\n",
              "      <th>min</th>\n",
              "      <td>100002.000000</td>\n",
              "      <td>0.000000</td>\n",
              "      <td>NaN</td>\n",
              "      <td>NaN</td>\n",
              "      <td>NaN</td>\n",
              "      <td>NaN</td>\n",
              "      <td>2.565000e+04</td>\n",
              "      <td>4.500000e+04</td>\n",
              "      <td>NaN</td>\n",
              "      <td>NaN</td>\n",
              "      <td>NaN</td>\n",
              "      <td>-25229.000000</td>\n",
              "      <td>1.000000</td>\n",
              "      <td>1.000000</td>\n",
              "    </tr>\n",
              "    <tr>\n",
              "      <th>25%</th>\n",
              "      <td>189145.500000</td>\n",
              "      <td>0.000000</td>\n",
              "      <td>NaN</td>\n",
              "      <td>NaN</td>\n",
              "      <td>NaN</td>\n",
              "      <td>NaN</td>\n",
              "      <td>1.125000e+05</td>\n",
              "      <td>2.700000e+05</td>\n",
              "      <td>NaN</td>\n",
              "      <td>NaN</td>\n",
              "      <td>NaN</td>\n",
              "      <td>-19682.000000</td>\n",
              "      <td>2.000000</td>\n",
              "      <td>2.000000</td>\n",
              "    </tr>\n",
              "    <tr>\n",
              "      <th>50%</th>\n",
              "      <td>278202.000000</td>\n",
              "      <td>0.000000</td>\n",
              "      <td>NaN</td>\n",
              "      <td>NaN</td>\n",
              "      <td>NaN</td>\n",
              "      <td>NaN</td>\n",
              "      <td>1.471500e+05</td>\n",
              "      <td>5.135310e+05</td>\n",
              "      <td>NaN</td>\n",
              "      <td>NaN</td>\n",
              "      <td>NaN</td>\n",
              "      <td>-15750.000000</td>\n",
              "      <td>2.000000</td>\n",
              "      <td>2.000000</td>\n",
              "    </tr>\n",
              "    <tr>\n",
              "      <th>75%</th>\n",
              "      <td>367142.500000</td>\n",
              "      <td>0.000000</td>\n",
              "      <td>NaN</td>\n",
              "      <td>NaN</td>\n",
              "      <td>NaN</td>\n",
              "      <td>NaN</td>\n",
              "      <td>2.025000e+05</td>\n",
              "      <td>8.086500e+05</td>\n",
              "      <td>NaN</td>\n",
              "      <td>NaN</td>\n",
              "      <td>NaN</td>\n",
              "      <td>-12413.000000</td>\n",
              "      <td>2.000000</td>\n",
              "      <td>2.000000</td>\n",
              "    </tr>\n",
              "    <tr>\n",
              "      <th>max</th>\n",
              "      <td>456255.000000</td>\n",
              "      <td>1.000000</td>\n",
              "      <td>NaN</td>\n",
              "      <td>NaN</td>\n",
              "      <td>NaN</td>\n",
              "      <td>NaN</td>\n",
              "      <td>1.170000e+08</td>\n",
              "      <td>4.050000e+06</td>\n",
              "      <td>NaN</td>\n",
              "      <td>NaN</td>\n",
              "      <td>NaN</td>\n",
              "      <td>-7489.000000</td>\n",
              "      <td>3.000000</td>\n",
              "      <td>3.000000</td>\n",
              "    </tr>\n",
              "  </tbody>\n",
              "</table>\n",
              "</div>\n",
              "      <button class=\"colab-df-convert\" onclick=\"convertToInteractive('df-b1ff697d-db12-40db-88e5-cb8188f33fd2')\"\n",
              "              title=\"Convert this dataframe to an interactive table.\"\n",
              "              style=\"display:none;\">\n",
              "        \n",
              "  <svg xmlns=\"http://www.w3.org/2000/svg\" height=\"24px\"viewBox=\"0 0 24 24\"\n",
              "       width=\"24px\">\n",
              "    <path d=\"M0 0h24v24H0V0z\" fill=\"none\"/>\n",
              "    <path d=\"M18.56 5.44l.94 2.06.94-2.06 2.06-.94-2.06-.94-.94-2.06-.94 2.06-2.06.94zm-11 1L8.5 8.5l.94-2.06 2.06-.94-2.06-.94L8.5 2.5l-.94 2.06-2.06.94zm10 10l.94 2.06.94-2.06 2.06-.94-2.06-.94-.94-2.06-.94 2.06-2.06.94z\"/><path d=\"M17.41 7.96l-1.37-1.37c-.4-.4-.92-.59-1.43-.59-.52 0-1.04.2-1.43.59L10.3 9.45l-7.72 7.72c-.78.78-.78 2.05 0 2.83L4 21.41c.39.39.9.59 1.41.59.51 0 1.02-.2 1.41-.59l7.78-7.78 2.81-2.81c.8-.78.8-2.07 0-2.86zM5.41 20L4 18.59l7.72-7.72 1.47 1.35L5.41 20z\"/>\n",
              "  </svg>\n",
              "      </button>\n",
              "      \n",
              "  <style>\n",
              "    .colab-df-container {\n",
              "      display:flex;\n",
              "      flex-wrap:wrap;\n",
              "      gap: 12px;\n",
              "    }\n",
              "\n",
              "    .colab-df-convert {\n",
              "      background-color: #E8F0FE;\n",
              "      border: none;\n",
              "      border-radius: 50%;\n",
              "      cursor: pointer;\n",
              "      display: none;\n",
              "      fill: #1967D2;\n",
              "      height: 32px;\n",
              "      padding: 0 0 0 0;\n",
              "      width: 32px;\n",
              "    }\n",
              "\n",
              "    .colab-df-convert:hover {\n",
              "      background-color: #E2EBFA;\n",
              "      box-shadow: 0px 1px 2px rgba(60, 64, 67, 0.3), 0px 1px 3px 1px rgba(60, 64, 67, 0.15);\n",
              "      fill: #174EA6;\n",
              "    }\n",
              "\n",
              "    [theme=dark] .colab-df-convert {\n",
              "      background-color: #3B4455;\n",
              "      fill: #D2E3FC;\n",
              "    }\n",
              "\n",
              "    [theme=dark] .colab-df-convert:hover {\n",
              "      background-color: #434B5C;\n",
              "      box-shadow: 0px 1px 3px 1px rgba(0, 0, 0, 0.15);\n",
              "      filter: drop-shadow(0px 1px 2px rgba(0, 0, 0, 0.3));\n",
              "      fill: #FFFFFF;\n",
              "    }\n",
              "  </style>\n",
              "\n",
              "      <script>\n",
              "        const buttonEl =\n",
              "          document.querySelector('#df-b1ff697d-db12-40db-88e5-cb8188f33fd2 button.colab-df-convert');\n",
              "        buttonEl.style.display =\n",
              "          google.colab.kernel.accessAllowed ? 'block' : 'none';\n",
              "\n",
              "        async function convertToInteractive(key) {\n",
              "          const element = document.querySelector('#df-b1ff697d-db12-40db-88e5-cb8188f33fd2');\n",
              "          const dataTable =\n",
              "            await google.colab.kernel.invokeFunction('convertToInteractive',\n",
              "                                                     [key], {});\n",
              "          if (!dataTable) return;\n",
              "\n",
              "          const docLinkHtml = 'Like what you see? Visit the ' +\n",
              "            '<a target=\"_blank\" href=https://colab.research.google.com/notebooks/data_table.ipynb>data table notebook</a>'\n",
              "            + ' to learn more about interactive tables.';\n",
              "          element.innerHTML = '';\n",
              "          dataTable['output_type'] = 'display_data';\n",
              "          await google.colab.output.renderOutput(dataTable, element);\n",
              "          const docLink = document.createElement('div');\n",
              "          docLink.innerHTML = docLinkHtml;\n",
              "          element.appendChild(docLink);\n",
              "        }\n",
              "      </script>\n",
              "    </div>\n",
              "  </div>\n",
              "  "
            ]
          },
          "metadata": {},
          "execution_count": 51
        }
      ]
    },
    {
      "cell_type": "code",
      "source": [
        "#To check the unique variables for NAME_CONTRACT_STATUS\n",
        "print(len(df_newprev.NAME_CONTRACT_STATUS.unique()))\n",
        "print(df_newprev.NAME_CONTRACT_STATUS.unique())\n",
        "\n",
        "\n",
        "#--Observations--\n",
        "# NAME_CONTRACT_STATUS has 4 unique values"
      ],
      "metadata": {
        "colab": {
          "base_uri": "https://localhost:8080/"
        },
        "id": "2PJOR7tRcgGP",
        "outputId": "59639eeb-6d17-456a-f105-8a1e59b2a49a"
      },
      "execution_count": null,
      "outputs": [
        {
          "output_type": "stream",
          "name": "stdout",
          "text": [
            "4\n",
            "['Approved' 'Refused' 'Canceled' 'Unused offer']\n"
          ]
        }
      ]
    },
    {
      "cell_type": "code",
      "source": [
        "#To check the unique variables for NAME_CLIENT_TYPE\n",
        "print(len(df_newprev.NAME_CLIENT_TYPE.unique()))\n",
        "print(df_newprev.NAME_CLIENT_TYPE.unique())\n",
        "\n",
        "#--Observations--\n",
        "# NAME_CLIENT_TYPE has 4 unique values"
      ],
      "metadata": {
        "colab": {
          "base_uri": "https://localhost:8080/"
        },
        "id": "aajVg8y4c1sW",
        "outputId": "1ec57a7f-cb6d-4782-8692-2fb1b48c3197"
      },
      "execution_count": null,
      "outputs": [
        {
          "output_type": "stream",
          "name": "stdout",
          "text": [
            "4\n",
            "['Repeater' 'New' 'Refreshed' 'XNA']\n"
          ]
        }
      ]
    },
    {
      "cell_type": "code",
      "source": [
        "#To check the unique variables for NAME_GOODS_CATEGORY\n",
        "print(len(df_newprev.NAME_GOODS_CATEGORY.unique()))\n",
        "print(df_newprev.NAME_GOODS_CATEGORY.unique())\n",
        "\n",
        "#--Observations--\n",
        "# NAME_GOODS_CATEGORY has 28 unique values"
      ],
      "metadata": {
        "colab": {
          "base_uri": "https://localhost:8080/"
        },
        "id": "nWHwktOzdAeZ",
        "outputId": "dd4899e5-926e-4c96-aad2-3563caf90c31"
      },
      "execution_count": null,
      "outputs": [
        {
          "output_type": "stream",
          "name": "stdout",
          "text": [
            "28\n",
            "['Mobile' 'XNA' 'Consumer Electronics' 'Construction Materials'\n",
            " 'Auto Accessories' 'Photo / Cinema Equipment' 'Computers' 'Audio/Video'\n",
            " 'Medicine' 'Clothing and Accessories' 'Furniture' 'Sport and Leisure'\n",
            " 'Homewares' 'Gardening' 'Jewelry' 'Vehicles' 'Education'\n",
            " 'Medical Supplies' 'Other' 'Direct Sales' 'Office Appliances' 'Fitness'\n",
            " 'Tourism' 'Insurance' 'Additional Service' 'Weapon' 'Animals'\n",
            " 'House Construction']\n"
          ]
        }
      ]
    },
    {
      "cell_type": "markdown",
      "source": [
        "#  DATA VISUALIZATION : STUDY OF RELATIONSHIPS BETWEEN VARIABLES"
      ],
      "metadata": {
        "id": "OJdSJNGLh70g"
      }
    },
    {
      "cell_type": "code",
      "source": [
        "#counting values for each variable\n",
        "df_newapp.NAME_CONTRACT_TYPE.value_counts()\n"
      ],
      "metadata": {
        "colab": {
          "base_uri": "https://localhost:8080/"
        },
        "id": "fpRttJXrevi7",
        "outputId": "3714530b-c7b8-441b-cbe8-5efea4dedcf4"
      },
      "execution_count": null,
      "outputs": [
        {
          "output_type": "execute_result",
          "data": {
            "text/plain": [
              "Cash loans         278232\n",
              "Revolving loans     29279\n",
              "Name: NAME_CONTRACT_TYPE, dtype: int64"
            ]
          },
          "metadata": {},
          "execution_count": 55
        }
      ]
    },
    {
      "cell_type": "code",
      "source": [
        "# Checking for the outliers for AMT_CREDIT in  new application dataset\n",
        "import seaborn as sns\n",
        "sns.boxplot(df_newapp.AMT_CREDIT)\n",
        "plt.show()"
      ],
      "metadata": {
        "colab": {
          "base_uri": "https://localhost:8080/",
          "height": 336
        },
        "id": "dZqtQqA2pZSC",
        "outputId": "3d680ad4-c184-42b4-a9d1-d1bac78c6212"
      },
      "execution_count": null,
      "outputs": [
        {
          "output_type": "stream",
          "name": "stderr",
          "text": [
            "/usr/local/lib/python3.8/dist-packages/seaborn/_decorators.py:36: FutureWarning: Pass the following variable as a keyword arg: x. From version 0.12, the only valid positional argument will be `data`, and passing other arguments without an explicit keyword will result in an error or misinterpretation.\n",
            "  warnings.warn(\n"
          ]
        },
        {
          "output_type": "display_data",
          "data": {
            "text/plain": [
              "<Figure size 432x288 with 1 Axes>"
            ],
            "image/png": "[encoded data removed]"
          },
          "metadata": {
            "needs_background": "light"
          }
        }
      ]
    },
    {
      "cell_type": "code",
      "source": [
        "# Checking for the outliers for AMT_CREDIT in new previous application dataset\n",
        "import seaborn as sns\n",
        "sns.boxplot(df_prev.AMT_CREDIT)\n",
        "#plt.title('Distribution of Amount Credit')\n",
        "plt.show()"
      ],
      "metadata": {
        "colab": {
          "base_uri": "https://localhost:8080/",
          "height": 336
        },
        "id": "BLoFSAR8xRb1",
        "outputId": "c3b72c78-f502-4d41-95ad-77b58cafc0d2"
      },
      "execution_count": null,
      "outputs": [
        {
          "output_type": "stream",
          "name": "stderr",
          "text": [
            "/usr/local/lib/python3.8/dist-packages/seaborn/_decorators.py:36: FutureWarning: Pass the following variable as a keyword arg: x. From version 0.12, the only valid positional argument will be `data`, and passing other arguments without an explicit keyword will result in an error or misinterpretation.\n",
            "  warnings.warn(\n"
          ]
        },
        {
          "output_type": "display_data",
          "data": {
            "text/plain": [
              "<Figure size 432x288 with 1 Axes>"
            ],
            "image/png": "[encoded data removed]"
          },
          "metadata": {
            "needs_background": "light"
          }
        }
      ]
    },
    {
      "cell_type": "code",
      "source": [
        "# Inter Quartile Range- \n",
        "q1=df_newapp.quantile(0.25)\n",
        "q3=df_newapp.quantile(0.75)\n",
        "iqr=q3-q1\n",
        "print(iqr)\n",
        "\n",
        "#--Observations--\n",
        "# Verifying the statistical dispersion and how the data is spread"
      ],
      "metadata": {
        "colab": {
          "base_uri": "https://localhost:8080/"
        },
        "id": "xMnrdxEDqppE",
        "outputId": "48669532-c566-44bf-a8d2-c5e4607b2fba"
      },
      "execution_count": null,
      "outputs": [
        {
          "output_type": "stream",
          "name": "stdout",
          "text": [
            "ID_CURR                        177997.0\n",
            "TARGET                              0.0\n",
            "AMT_INCOME_TOTAL                90000.0\n",
            "AMT_CREDIT                     538650.0\n",
            "DAYS_BIRTH                       7269.0\n",
            "REGION_RATING_CLIENT                0.0\n",
            "REGION_RATING_CLIENT_W_CITY         0.0\n",
            "dtype: float64\n"
          ]
        }
      ]
    },
    {
      "cell_type": "code",
      "source": [
        "# Observing the data of contract type \n",
        "pie=df_newapp.NAME_CONTRACT_TYPE.value_counts()\n",
        "\n",
        "plt.barh(pie.index, pie,color='g')\n",
        "plt.title(\"Count of Name Contract Type\", fontdict={\"fontsize\":10}, pad =10)\n",
        "#--Observation--\n",
        "# More number of people are applying for the cash loans as compared to revolving loans"
      ],
      "metadata": {
        "colab": {
          "base_uri": "https://localhost:8080/",
          "height": 301
        },
        "id": "nvz5GPrYhrYI",
        "outputId": "53529be6-6081-4807-cb63-e39a551b49a1"
      },
      "execution_count": null,
      "outputs": [
        {
          "output_type": "execute_result",
          "data": {
            "text/plain": [
              "Text(0.5, 1.0, 'Count of Name Contract Type')"
            ]
          },
          "metadata": {},
          "execution_count": 59
        },
        {
          "output_type": "display_data",
          "data": {
            "text/plain": [
              "<Figure size 432x288 with 1 Axes>"
            ],
            "image/png": "[encoded data removed]"
          },
          "metadata": {
            "needs_background": "light"
          }
        }
      ]
    },
    {
      "cell_type": "code",
      "source": [
        "# Plotting a percentage graph having each category of \"NAME_INCOME_TYPE\"\n",
        "\n",
        "plt.figure(figsize = [12,7])\n",
        "(df_newapp[\"NAME_INCOME_TYPE\"].value_counts()).plot.barh(color= \"orange\",width = .8)\n",
        "plt.title(\"Percentage of Clients' Income Type\", fontdict={\"fontsize\":20}, pad =20)\n",
        "plt.show()\n",
        "\n",
        "\n",
        "#--Observation--\n",
        "# The clients who are taking the more number of loans are in the \"working\" income type, followed by \"commercial asscociate\" income type."
      ],
      "metadata": {
        "colab": {
          "base_uri": "https://localhost:8080/",
          "height": 463
        },
        "id": "GGjvA_zmj8Ik",
        "outputId": "c9a07137-c79c-434e-83d4-7ad034840938"
      },
      "execution_count": null,
      "outputs": [
        {
          "output_type": "display_data",
          "data": {
            "text/plain": [
              "<Figure size 864x504 with 1 Axes>"
            ],
            "image/png": "[encoded data removed]"
          },
          "metadata": {
            "needs_background": "light"
          }
        }
      ]
    },
    {
      "cell_type": "code",
      "source": [
        "# Observing the AMT_INCOME_TOTAL\n",
        "import matplotlib as plt\n",
        "from matplotlib import pyplot\n",
        "plt.pyplot.hist(df_newapp[\"AMT_INCOME_TOTAL\"])"
      ],
      "metadata": {
        "colab": {
          "base_uri": "https://localhost:8080/",
          "height": 387
        },
        "id": "_M9G8uYClWgG",
        "outputId": "73cf7aa5-3b18-49fd-ad4d-7e009131617e"
      },
      "execution_count": null,
      "outputs": [
        {
          "output_type": "execute_result",
          "data": {
            "text/plain": [
              "(array([3.07508e+05, 2.00000e+00, 0.00000e+00, 0.00000e+00, 0.00000e+00,\n",
              "        0.00000e+00, 0.00000e+00, 0.00000e+00, 0.00000e+00, 1.00000e+00]),\n",
              " array([2.56500000e+04, 1.17230850e+07, 2.34205200e+07, 3.51179550e+07,\n",
              "        4.68153900e+07, 5.85128250e+07, 7.02102600e+07, 8.19076950e+07,\n",
              "        9.36051300e+07, 1.05302565e+08, 1.17000000e+08]),\n",
              " <a list of 10 Patch objects>)"
            ]
          },
          "metadata": {},
          "execution_count": 61
        },
        {
          "output_type": "display_data",
          "data": {
            "text/plain": [
              "<Figure size 432x288 with 1 Axes>"
            ],
            "image/png": "[encoded data removed]"
          },
          "metadata": {
            "needs_background": "light"
          }
        }
      ]
    },
    {
      "cell_type": "code",
      "source": [
        "\n",
        "# plotting density of TARGET\n",
        "sns.distplot(df_newapp['TARGET'])\n",
        "# Observations: No.of people defaulting in the first Y installments are less compared to people defaulting for other reasons."
      ],
      "metadata": {
        "colab": {
          "base_uri": "https://localhost:8080/",
          "height": 354
        },
        "id": "FrIDv1nTmpN9",
        "outputId": "349074a5-5684-4220-d112-be0d8d887926"
      },
      "execution_count": null,
      "outputs": [
        {
          "output_type": "stream",
          "name": "stderr",
          "text": [
            "/usr/local/lib/python3.8/dist-packages/seaborn/distributions.py:2619: FutureWarning: `distplot` is a deprecated function and will be removed in a future version. Please adapt your code to use either `displot` (a figure-level function with similar flexibility) or `histplot` (an axes-level function for histograms).\n",
            "  warnings.warn(msg, FutureWarning)\n"
          ]
        },
        {
          "output_type": "execute_result",
          "data": {
            "text/plain": [
              "<matplotlib.axes._subplots.AxesSubplot at 0x7f6c2ca3d160>"
            ]
          },
          "metadata": {},
          "execution_count": 62
        },
        {
          "output_type": "display_data",
          "data": {
            "text/plain": [
              "<Figure size 432x288 with 1 Axes>"
            ],
            "image/png": "[encoded data removed]"
          },
          "metadata": {
            "needs_background": "light"
          }
        }
      ]
    },
    {
      "cell_type": "code",
      "source": [
        "# Analysing all Variables using Scatter plot\n",
        "sns.pairplot(data=df_newapp)\n",
        "\n",
        "#--Observation--\n",
        "#Observing the Spreading of all datapoints of all variabls"
      ],
      "metadata": {
        "colab": {
          "base_uri": "https://localhost:8080/",
          "height": 1000
        },
        "id": "8P7AiXELn4_s",
        "outputId": "4e56f00f-79e5-4f53-d5c1-8b15ec434128"
      },
      "execution_count": null,
      "outputs": [
        {
          "output_type": "execute_result",
          "data": {
            "text/plain": [
              "<seaborn.axisgrid.PairGrid at 0x7f1332775280>"
            ]
          },
          "metadata": {},
          "execution_count": 83
        },
        {
          "output_type": "display_data",
          "data": {
            "text/plain": [
              "<Figure size 1260x1260 with 56 Axes>"
            ],
            "image/png": "[encoded data removed]"
          },
          "metadata": {
            "needs_background": "light"
          }
        }
      ]
    },
    {
      "cell_type": "code",
      "source": [
        "#heatplot\n",
        "corr=df_newapp.corr() \n",
        "corr.style.background_gradient(cmap='coolwarm')\n",
        "\n",
        "#To Analyze the correlation between all variables."
      ],
      "metadata": {
        "colab": {
          "base_uri": "https://localhost:8080/",
          "height": 269
        },
        "id": "QNxa-ZQuoIiB",
        "outputId": "855a54e4-5819-49da-866c-20a73f38dd7a"
      },
      "execution_count": null,
      "outputs": [
        {
          "output_type": "execute_result",
          "data": {
            "text/plain": [
              "<pandas.io.formats.style.Styler at 0x7f6c2c9715b0>"
            ],
            "text/html": [
              "<style type=\"text/css\">\n",
              "#T_637c5_row0_col0, #T_637c5_row1_col1, #T_637c5_row2_col2, #T_637c5_row3_col3, #T_637c5_row4_col4, #T_637c5_row5_col5, #T_637c5_row6_col6 {\n",
              "  background-color: #b40426;\n",
              "  color: #f1f1f1;\n",
              "}\n",
              "#T_637c5_row0_col1 {\n",
              "  background-color: #4358cb;\n",
              "  color: #f1f1f1;\n",
              "}\n",
              "#T_637c5_row0_col2 {\n",
              "  background-color: #5470de;\n",
              "  color: #f1f1f1;\n",
              "}\n",
              "#T_637c5_row0_col3, #T_637c5_row0_col6, #T_637c5_row4_col5 {\n",
              "  background-color: #5977e3;\n",
              "  color: #f1f1f1;\n",
              "}\n",
              "#T_637c5_row0_col4 {\n",
              "  background-color: #4a63d3;\n",
              "  color: #f1f1f1;\n",
              "}\n",
              "#T_637c5_row0_col5 {\n",
              "  background-color: #5673e0;\n",
              "  color: #f1f1f1;\n",
              "}\n",
              "#T_637c5_row1_col0, #T_637c5_row2_col0, #T_637c5_row3_col0, #T_637c5_row3_col1, #T_637c5_row3_col4, #T_637c5_row3_col5, #T_637c5_row3_col6, #T_637c5_row4_col0, #T_637c5_row5_col0, #T_637c5_row6_col0, #T_637c5_row6_col2, #T_637c5_row6_col3 {\n",
              "  background-color: #3b4cc0;\n",
              "  color: #f1f1f1;\n",
              "}\n",
              "#T_637c5_row1_col2, #T_637c5_row2_col4 {\n",
              "  background-color: #536edd;\n",
              "  color: #f1f1f1;\n",
              "}\n",
              "#T_637c5_row1_col3 {\n",
              "  background-color: #506bda;\n",
              "  color: #f1f1f1;\n",
              "}\n",
              "#T_637c5_row1_col4 {\n",
              "  background-color: #6282ea;\n",
              "  color: #f1f1f1;\n",
              "}\n",
              "#T_637c5_row1_col5 {\n",
              "  background-color: #688aef;\n",
              "  color: #f1f1f1;\n",
              "}\n",
              "#T_637c5_row1_col6 {\n",
              "  background-color: #6b8df0;\n",
              "  color: #f1f1f1;\n",
              "}\n",
              "#T_637c5_row2_col1 {\n",
              "  background-color: #4257c9;\n",
              "  color: #f1f1f1;\n",
              "}\n",
              "#T_637c5_row2_col3 {\n",
              "  background-color: #89acfd;\n",
              "  color: #000000;\n",
              "}\n",
              "#T_637c5_row2_col5 {\n",
              "  background-color: #3e51c5;\n",
              "  color: #f1f1f1;\n",
              "}\n",
              "#T_637c5_row2_col6 {\n",
              "  background-color: #3f53c6;\n",
              "  color: #f1f1f1;\n",
              "}\n",
              "#T_637c5_row3_col2 {\n",
              "  background-color: #85a8fc;\n",
              "  color: #f1f1f1;\n",
              "}\n",
              "#T_637c5_row4_col1 {\n",
              "  background-color: #5a78e4;\n",
              "  color: #f1f1f1;\n",
              "}\n",
              "#T_637c5_row4_col2, #T_637c5_row4_col6 {\n",
              "  background-color: #5b7ae5;\n",
              "  color: #f1f1f1;\n",
              "}\n",
              "#T_637c5_row4_col3 {\n",
              "  background-color: #4961d2;\n",
              "  color: #f1f1f1;\n",
              "}\n",
              "#T_637c5_row5_col1, #T_637c5_row6_col1 {\n",
              "  background-color: #5572df;\n",
              "  color: #f1f1f1;\n",
              "}\n",
              "#T_637c5_row5_col2 {\n",
              "  background-color: #3c4ec2;\n",
              "  color: #f1f1f1;\n",
              "}\n",
              "#T_637c5_row5_col3 {\n",
              "  background-color: #3d50c3;\n",
              "  color: #f1f1f1;\n",
              "}\n",
              "#T_637c5_row5_col4, #T_637c5_row6_col4 {\n",
              "  background-color: #4c66d6;\n",
              "  color: #f1f1f1;\n",
              "}\n",
              "#T_637c5_row5_col6, #T_637c5_row6_col5 {\n",
              "  background-color: #c43032;\n",
              "  color: #f1f1f1;\n",
              "}\n",
              "</style>\n",
              "<table id=\"T_637c5_\" class=\"dataframe\">\n",
              "  <thead>\n",
              "    <tr>\n",
              "      <th class=\"blank level0\" >&nbsp;</th>\n",
              "      <th class=\"col_heading level0 col0\" >ID_CURR</th>\n",
              "      <th class=\"col_heading level0 col1\" >TARGET</th>\n",
              "      <th class=\"col_heading level0 col2\" >AMT_INCOME_TOTAL</th>\n",
              "      <th class=\"col_heading level0 col3\" >AMT_CREDIT</th>\n",
              "      <th class=\"col_heading level0 col4\" >DAYS_BIRTH</th>\n",
              "      <th class=\"col_heading level0 col5\" >REGION_RATING_CLIENT</th>\n",
              "      <th class=\"col_heading level0 col6\" >REGION_RATING_CLIENT_W_CITY</th>\n",
              "    </tr>\n",
              "  </thead>\n",
              "  <tbody>\n",
              "    <tr>\n",
              "      <th id=\"T_637c5_level0_row0\" class=\"row_heading level0 row0\" >ID_CURR</th>\n",
              "      <td id=\"T_637c5_row0_col0\" class=\"data row0 col0\" >1.000000</td>\n",
              "      <td id=\"T_637c5_row0_col1\" class=\"data row0 col1\" >-0.002108</td>\n",
              "      <td id=\"T_637c5_row0_col2\" class=\"data row0 col2\" >-0.001820</td>\n",
              "      <td id=\"T_637c5_row0_col3\" class=\"data row0 col3\" >-0.000343</td>\n",
              "      <td id=\"T_637c5_row0_col4\" class=\"data row0 col4\" >-0.001500</td>\n",
              "      <td id=\"T_637c5_row0_col5\" class=\"data row0 col5\" >-0.001075</td>\n",
              "      <td id=\"T_637c5_row0_col6\" class=\"data row0 col6\" >-0.001138</td>\n",
              "    </tr>\n",
              "    <tr>\n",
              "      <th id=\"T_637c5_level0_row1\" class=\"row_heading level0 row1\" >TARGET</th>\n",
              "      <td id=\"T_637c5_row1_col0\" class=\"data row1 col0\" >-0.002108</td>\n",
              "      <td id=\"T_637c5_row1_col1\" class=\"data row1 col1\" >1.000000</td>\n",
              "      <td id=\"T_637c5_row1_col2\" class=\"data row1 col2\" >-0.003982</td>\n",
              "      <td id=\"T_637c5_row1_col3\" class=\"data row1 col3\" >-0.030369</td>\n",
              "      <td id=\"T_637c5_row1_col4\" class=\"data row1 col4\" >0.078239</td>\n",
              "      <td id=\"T_637c5_row1_col5\" class=\"data row1 col5\" >0.058899</td>\n",
              "      <td id=\"T_637c5_row1_col6\" class=\"data row1 col6\" >0.060893</td>\n",
              "    </tr>\n",
              "    <tr>\n",
              "      <th id=\"T_637c5_level0_row2\" class=\"row_heading level0 row2\" >AMT_INCOME_TOTAL</th>\n",
              "      <td id=\"T_637c5_row2_col0\" class=\"data row2 col0\" >-0.001820</td>\n",
              "      <td id=\"T_637c5_row2_col1\" class=\"data row2 col1\" >-0.003982</td>\n",
              "      <td id=\"T_637c5_row2_col2\" class=\"data row2 col2\" >1.000000</td>\n",
              "      <td id=\"T_637c5_row2_col3\" class=\"data row2 col3\" >0.156870</td>\n",
              "      <td id=\"T_637c5_row2_col4\" class=\"data row2 col4\" >0.027261</td>\n",
              "      <td id=\"T_637c5_row2_col5\" class=\"data row2 col5\" >-0.085465</td>\n",
              "      <td id=\"T_637c5_row2_col6\" class=\"data row2 col6\" >-0.091735</td>\n",
              "    </tr>\n",
              "    <tr>\n",
              "      <th id=\"T_637c5_level0_row3\" class=\"row_heading level0 row3\" >AMT_CREDIT</th>\n",
              "      <td id=\"T_637c5_row3_col0\" class=\"data row3 col0\" >-0.000343</td>\n",
              "      <td id=\"T_637c5_row3_col1\" class=\"data row3 col1\" >-0.030369</td>\n",
              "      <td id=\"T_637c5_row3_col2\" class=\"data row3 col2\" >0.156870</td>\n",
              "      <td id=\"T_637c5_row3_col3\" class=\"data row3 col3\" >1.000000</td>\n",
              "      <td id=\"T_637c5_row3_col4\" class=\"data row3 col4\" >-0.055436</td>\n",
              "      <td id=\"T_637c5_row3_col5\" class=\"data row3 col5\" >-0.101776</td>\n",
              "      <td id=\"T_637c5_row3_col6\" class=\"data row3 col6\" >-0.110915</td>\n",
              "    </tr>\n",
              "    <tr>\n",
              "      <th id=\"T_637c5_level0_row4\" class=\"row_heading level0 row4\" >DAYS_BIRTH</th>\n",
              "      <td id=\"T_637c5_row4_col0\" class=\"data row4 col0\" >-0.001500</td>\n",
              "      <td id=\"T_637c5_row4_col1\" class=\"data row4 col1\" >0.078239</td>\n",
              "      <td id=\"T_637c5_row4_col2\" class=\"data row4 col2\" >0.027261</td>\n",
              "      <td id=\"T_637c5_row4_col3\" class=\"data row4 col3\" >-0.055436</td>\n",
              "      <td id=\"T_637c5_row4_col4\" class=\"data row4 col4\" >1.000000</td>\n",
              "      <td id=\"T_637c5_row4_col5\" class=\"data row4 col5\" >0.009361</td>\n",
              "      <td id=\"T_637c5_row4_col6\" class=\"data row4 col6\" >0.008073</td>\n",
              "    </tr>\n",
              "    <tr>\n",
              "      <th id=\"T_637c5_level0_row5\" class=\"row_heading level0 row5\" >REGION_RATING_CLIENT</th>\n",
              "      <td id=\"T_637c5_row5_col0\" class=\"data row5 col0\" >-0.001075</td>\n",
              "      <td id=\"T_637c5_row5_col1\" class=\"data row5 col1\" >0.058899</td>\n",
              "      <td id=\"T_637c5_row5_col2\" class=\"data row5 col2\" >-0.085465</td>\n",
              "      <td id=\"T_637c5_row5_col3\" class=\"data row5 col3\" >-0.101776</td>\n",
              "      <td id=\"T_637c5_row5_col4\" class=\"data row5 col4\" >0.009361</td>\n",
              "      <td id=\"T_637c5_row5_col5\" class=\"data row5 col5\" >1.000000</td>\n",
              "      <td id=\"T_637c5_row5_col6\" class=\"data row5 col6\" >0.950842</td>\n",
              "    </tr>\n",
              "    <tr>\n",
              "      <th id=\"T_637c5_level0_row6\" class=\"row_heading level0 row6\" >REGION_RATING_CLIENT_W_CITY</th>\n",
              "      <td id=\"T_637c5_row6_col0\" class=\"data row6 col0\" >-0.001138</td>\n",
              "      <td id=\"T_637c5_row6_col1\" class=\"data row6 col1\" >0.060893</td>\n",
              "      <td id=\"T_637c5_row6_col2\" class=\"data row6 col2\" >-0.091735</td>\n",
              "      <td id=\"T_637c5_row6_col3\" class=\"data row6 col3\" >-0.110915</td>\n",
              "      <td id=\"T_637c5_row6_col4\" class=\"data row6 col4\" >0.008073</td>\n",
              "      <td id=\"T_637c5_row6_col5\" class=\"data row6 col5\" >0.950842</td>\n",
              "      <td id=\"T_637c5_row6_col6\" class=\"data row6 col6\" >1.000000</td>\n",
              "    </tr>\n",
              "  </tbody>\n",
              "</table>\n"
            ]
          },
          "metadata": {},
          "execution_count": 63
        }
      ]
    },
    {
      "cell_type": "code",
      "source": [
        "# Calculating Imbalance percentage\n",
        "100*(df_newapp.TARGET.value_counts())/ (len(df_newapp))\n"
      ],
      "metadata": {
        "colab": {
          "base_uri": "https://localhost:8080/"
        },
        "id": "5jOJ4cfKyVqq",
        "outputId": "a3e74076-9704-4c71-88cb-1e8228d9460b"
      },
      "execution_count": null,
      "outputs": [
        {
          "output_type": "execute_result",
          "data": {
            "text/plain": [
              "0    91.927118\n",
              "1     8.072882\n",
              "Name: TARGET, dtype: float64"
            ]
          },
          "metadata": {},
          "execution_count": 64
        }
      ]
    },
    {
      "cell_type": "code",
      "source": [
        "# Checking for the outliers for\n",
        "import seaborn as sns\n",
        "import matplotlib.pyplot as plt\n",
        "\n",
        "sns.boxplot(df_newapp.AMT_INCOME_TOTAL)\n",
        "plt.title('Distribution of Income Amount')\n",
        "plt.show()\n",
        "# There are outliers when we check Income Amount of Client\n",
        "\n"
      ],
      "metadata": {
        "colab": {
          "base_uri": "https://localhost:8080/",
          "height": 352
        },
        "id": "0mYkCQtCzbki",
        "outputId": "99d3228c-6c80-410f-b529-2643831f1926"
      },
      "execution_count": null,
      "outputs": [
        {
          "output_type": "stream",
          "name": "stderr",
          "text": [
            "/usr/local/lib/python3.8/dist-packages/seaborn/_decorators.py:36: FutureWarning: Pass the following variable as a keyword arg: x. From version 0.12, the only valid positional argument will be `data`, and passing other arguments without an explicit keyword will result in an error or misinterpretation.\n",
            "  warnings.warn(\n"
          ]
        },
        {
          "output_type": "display_data",
          "data": {
            "text/plain": [
              "<Figure size 432x288 with 1 Axes>"
            ],
            "image/png": "[encoded data removed]"
          },
          "metadata": {
            "needs_background": "light"
          }
        }
      ]
    }
  ]
}